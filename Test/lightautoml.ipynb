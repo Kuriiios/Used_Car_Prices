{
 "cells": [
  {
   "cell_type": "code",
   "execution_count": 14,
   "id": "91c15fca",
   "metadata": {},
   "outputs": [],
   "source": [
    "import os \n",
    "import matplotlib\n",
    "import opendatasets as od\n",
    "import numpy as np\n",
    "import pandas as pd\n",
    "import matplotlib.pyplot as plt\n",
    "import seaborn as sns\n",
    "import plotly.express as px\n",
    "import math\n",
    "import requests\n",
    "import re\n",
    "import datetime\n",
    "import joblib\n",
    "\n",
    "from sklearn.metrics import root_mean_squared_error as rmse\n",
    "from sklearn.metrics import roc_auc_score, mean_squared_log_error\n",
    "from sklearn.linear_model import LinearRegression\n",
    "from sklearn.impute import SimpleImputer\n",
    "from sklearn.ensemble import RandomForestRegressor\n",
    "from sklearn.tree import DecisionTreeClassifier\n",
    "from sklearn.preprocessing import MinMaxScaler, OneHotEncoder\n",
    "from sklearn.model_selection import train_test_split\n",
    "from xgboost import XGBRegressor\n",
    "from sklearn.model_selection import KFold\n",
    "from sklearn.model_selection import GridSearchCV\n",
    "\n",
    "from lightautoml.automl.presets.tabular_presets import TabularAutoML, TabularUtilizedAutoML\n",
    "from lightautoml.automl.presets.text_presets import TabularNLPAutoML\n",
    "from lightautoml.tasks import Task\n",
    "from lightautoml.report.report_deco import ReportDeco, ReportDecoUtilized\n",
    "from lightautoml.addons.tabular_interpretation import SSWARM\n",
    "import torch\n",
    "\n",
    "currentDateTime = datetime.datetime.now()\n",
    "date = currentDateTime.date()\n",
    "year = int(date.strftime(\"%Y\"))\n",
    "\n",
    "matplotlib.rcParams['font.size'] = 14\n",
    "matplotlib.rcParams['figure.figsize'] = (10, 6)\n",
    "matplotlib.rcParams['figure.facecolor'] = \"#949494\"\n",
    "\n",
    "%matplotlib inline"
   ]
  },
  {
   "cell_type": "code",
   "execution_count": 15,
   "id": "c8601534",
   "metadata": {},
   "outputs": [
    {
     "name": "stdout",
     "output_type": "stream",
     "text": [
      "Skipping, found downloaded files in \"./playground-series-s4e9\" (use force=True to force download)\n"
     ]
    }
   ],
   "source": [
    "od.download('https://www.kaggle.com/c/playground-series-s4e9')\n",
    "os.listdir('playground-series-s4e9')\n",
    "train = pd.read_csv('playground-series-s4e9/train.csv', low_memory=False)\n",
    "test = pd.read_csv('playground-series-s4e9/test.csv', low_memory=False)\n",
    "sub = pd.read_csv('playground-series-s4e9/sample_submission.csv')"
   ]
  },
  {
   "cell_type": "code",
   "execution_count": 16,
   "id": "9a1b65d9",
   "metadata": {},
   "outputs": [],
   "source": [
    "N_THREADS = 16\n",
    "N_FOLDS = 10\n",
    "RANDOM_STATE = 42\n",
    "TEST_SIZE = 0.2\n",
    "TIMEOUT = 3600"
   ]
  },
  {
   "cell_type": "code",
   "execution_count": 17,
   "id": "5237c44a",
   "metadata": {},
   "outputs": [],
   "source": [
    "np.random.seed(RANDOM_STATE)\n",
    "torch.set_num_threads(N_THREADS)"
   ]
  },
  {
   "cell_type": "code",
   "execution_count": 18,
   "id": "cf675577",
   "metadata": {},
   "outputs": [],
   "source": [
    "def convert_engine(val):\n",
    "    d = {\n",
    "        'engine_HP': np.nan,\n",
    "        'engine_L': np.nan,\n",
    "        'engine_cylinder': np.nan,\n",
    "        'engine_cylinder_type': np.nan,\n",
    "        'engine_fuel_type': np.nan,\n",
    "        'engine_type': np.nan,\n",
    "        'engine_v': np.nan,\n",
    "        'engine_vtype': np.nan\n",
    "    }\n",
    "    spl = val.replace('-', '').split(' ')\n",
    "    pos_v1 = -1\n",
    "    pos_v2 = -1\n",
    "    for i, v in enumerate(spl):\n",
    "        if v.endswith('HP'):\n",
    "            d['engine_HP'] = float(v[:-2])\n",
    "        elif v.endswith('L'):\n",
    "            d['engine_L'] = float(v[:-1])\n",
    "        elif v == 'Engine' and spl[i-1] == 'Cylinder':\n",
    "            d['engine_cylinder'] = abs(float(spl[i-2].replace('V', '')))\n",
    "        elif v == 'Fuel':\n",
    "            d['engine_fuel_type'] = spl[i - 1]\n",
    "        elif v == 'Liter':\n",
    "            d['engine_L'] = float(spl[i-1])\n",
    "        elif v.startswith('V') or v.startswith('H') or v.startswith('I'):\n",
    "            try:\n",
    "                d['engine_cylinder'] = float(v[1:])\n",
    "                d['engine_cylinder_type'] = v[0]\n",
    "                pos_v1 = i\n",
    "            except:\n",
    "                pass\n",
    "        elif v == 'DOHC' or v == 'OHV':\n",
    "            d['engine_type'] = ' '.join(spl[i:])\n",
    "            if pos_v2 != -1:\n",
    "                d['engine_vtype'] = ' '.join(spl[pos_v2+1:i])\n",
    "            elif pos_v1 != -1:\n",
    "                d['engine_vtype'] = ' '.join(spl[pos_v1+1:i])\n",
    "        elif v.endswith('V'):\n",
    "            try:\n",
    "                d['engine_v'] = float(v[:-1])\n",
    "                pos_v2 = i\n",
    "            except:\n",
    "                pass\n",
    "    return d\n",
    "\n",
    "def test_params(ModelClass, **params):\n",
    "    model = ModelClass(**params).fit(X_train, Y_train)\n",
    "    train_rmse = rmse(model.predict(X_train), Y_train)\n",
    "    val_rmse = rmse(model.predict(X_val), Y_val)\n",
    "    return train_rmse, val_rmse\n",
    "\n",
    "\n",
    "def test_param_and_plot(ModelClass, param_name, param_values, **other_params):\n",
    "    train_errors, val_errors = [], [] \n",
    "    for value in param_values:\n",
    "        params = dict(other_params)\n",
    "        params[param_name] = value\n",
    "        train_rmse, val_rmse = test_params(ModelClass, **params)\n",
    "        train_errors.append(train_rmse)\n",
    "        val_errors.append(val_rmse)\n",
    "    \n",
    "    plt.figure(figsize=(10,6))\n",
    "    plt.title('Overfitting curve: ' + param_name)\n",
    "    plt.plot(param_values, train_errors, 'b-o')\n",
    "    plt.plot(param_values, val_errors, 'r-o')\n",
    "    for x,y in zip(param_values,val_errors):\n",
    "        label = \"{:.2f}\".format(y)\n",
    "        plt.annotate(label,\n",
    "                    (x,y),\n",
    "                    textcoords=\"offset points\",\n",
    "                    xytext=(0,10),\n",
    "                    ha='center')\n",
    "\n",
    "    plt.xlabel(param_name)\n",
    "    plt.ylabel('RMSE')\n",
    "    plt.legend(['Training', 'Validation'])\n",
    "    plt.show()"
   ]
  },
  {
   "cell_type": "code",
   "execution_count": 19,
   "id": "747c217f",
   "metadata": {},
   "outputs": [],
   "source": [
    "average_prices_by_brand = train.groupby('brand')['price'].mean()\n",
    "\n",
    "train = train.fillna('dash')\n",
    "train = train.replace('–', 'dash')\n",
    "\n",
    "test = test.fillna('dash')\n",
    "test = test.replace('–', 'dash')\n",
    "\n",
    "accident_dict = {\n",
    "    'None reported': 0,\n",
    "    'At least 1 accident or damage reported': 1,\n",
    "    'uknown': 2\n",
    "}\n",
    "\n",
    "clean_title_dict = {\n",
    "    'Yes': 0,\n",
    "    'uknown': 1\n",
    "}\n",
    "\n",
    "expensive_ext_color = ['Blue Caelum', 'Dark Sapphire', 'Bianco Monocerus', 'C / C', 'Ice',\n",
    "       'Tempest', 'Beluga Black', 'Bianco Icarus Metallic', \n",
    "       'BLU ELEOS', 'Shadow Black', 'Nero Noctis', 'Sandstone Metallic',\n",
    "       'Lizard Green', 'Balloon White', 'Onyx', 'Donington Grey Metallic',\n",
    "       'China Blue', 'Diamond White', 'Rosso Corsa', 'Granite',\n",
    "       'Rosso Mars Metallic', 'Carpathian Grey', 'Kemora Gray Metallic',\n",
    "       'Grigio Nimbus', 'dash', 'Bianco Isis', 'Python Green', 'Fountain Blue',\n",
    "       'Custom Color', 'Vega Blue', 'Designo Magno Matte',\n",
    "       'Brands Hatch Gray Metallic', 'Rift Metallic', 'Gentian Blue Metallic',\n",
    "       'Arancio Borealis', 'BLUE', 'Aventurine Green Metallic', 'Apex Blue',\n",
    "       'Daytona Gray Pearl Effect', 'Daytona Gray Pearl Effect w/ Black Roof',\n",
    "       'Matte White', 'Carpathian Grey Premium Metallic', 'Blue Metallic',\n",
    "       'Santorini Black Metallic', 'Quartzite Grey Metallic',\n",
    "       'Carrara White Metallic', 'BLACK', 'Kinetic Blue', 'Nero Daytona']\n",
    "\n",
    "expensive_int_color = ['Dark Auburn', 'Hotspur', 'Cobalt Blue', 'Beluga Hide', 'Linen',\n",
    "                       'Beluga', 'Black / Brown', 'Nero Ade', 'Sahara Tan', 'Portland']\n",
    "\n",
    "inexpensive_ext_color = ['Gold', 'Frozen White', 'Beige', 'Volcanic Orange',\n",
    "        'Mountain Air Metallic', 'Crystal Black Pearl', 'Crimson Red Tintcoat',\n",
    "        'Snowflake White Pearl', 'Sonic Silver Metallic', 'Radiant Red Metallic II',\n",
    "        'Remington Red Metallic', 'Gecko Pearlcoat', 'Dazzling White',\n",
    "        'Blue Reflex Mica', 'White Platinum Tri-Coat Metallic', 'Purple',\n",
    "        'Crystal White Pearl', 'Silver', 'Jet Black Mica', 'Red Quartz Tintcoat']\n",
    "\n",
    "inexpensive_int_color =['Light Gray', 'Gray', 'Medium Pewter', 'Beige', 'Medium Ash Gray',\n",
    "       'White / Brown', 'Ash', 'Deep Chestnut', 'Charcoal Black',\n",
    "       'Whisper Beige', 'Gideon', 'Light Platinum / Jet Black', 'Sand Beige',\n",
    "       'Mountain Brown', 'Ivory / Ebony', 'Black / Graphite', 'Canberra Beige',\n",
    "       'Tupelo', 'Charcoal', 'Gold']\n",
    "\n",
    "low_end_brand = average_prices_by_brand[average_prices_by_brand < 25000].index.tolist()\n",
    "mid_range_brand = average_prices_by_brand[(average_prices_by_brand > 25000) & (average_prices_by_brand < 40000)].index.tolist()\n",
    "high_end_brand = average_prices_by_brand[(average_prices_by_brand > 40000) & (average_prices_by_brand < 80000)].index.tolist()\n",
    "luxury_brand = average_prices_by_brand[average_prices_by_brand > 80000].index.tolist()\n",
    "\n",
    "def encode_columns(df):\n",
    "    gases = df.fuel_type.value_counts().index\n",
    "    for gas in gases:\n",
    "        df.loc[(df['fuel_type'] == '–') & df['engine'].str.contains(gas), 'fuel_type'] = gas\n",
    "\n",
    "    milage_per_year = df['milage'] / (year - df['model_year'])\n",
    "\n",
    "    auto_transmission = df['transmission'].str.contains('A/T') + df['transmission'].str.contains(' At') + df['transmission'].str.contains('Automatic') + df['transmission'].str.contains('Dual Shift') + df['transmission'].str.contains('CVT Transmission') + df['transmission'].str.contains('CVT-F') + df['transmission'].str.contains('Overdrive Switch') + df['transmission'].str.contains('Variable')\n",
    "    manual_transmission = df['transmission'].str.contains('M/T') + df['transmission'].str.contains(' Mt') + df['transmission'].str.contains('Manual')\n",
    "    \n",
    "    df['milage_per_year'] = milage_per_year.astype(int)\n",
    "    \n",
    "    df['auto_transmission'] = auto_transmission.astype(int)\n",
    "    df['manual_transmission'] = manual_transmission.astype(int)\n",
    "\n",
    "    df['turbo_engine'] = df['engine'].str.contains('Turbo').astype(int)\n",
    "    df['supercharged_engine'] = df['engine'].str.contains('Supercharged').astype(int)\n",
    "    df['dohc_engine'] = df['engine'].str.contains('DOHC').astype(int)\n",
    "    df['ohv_engine'] = df['engine'].str.contains('OHV').astype(int)\n",
    "\n",
    "\n",
    "    df['low_end_brand'] = df.brand.isin(low_end_brand).astype(int)\n",
    "    df['mid_range_brand'] = df.brand.isin(mid_range_brand).astype(int)\n",
    "    df['high_end_brand'] = df.brand.isin(high_end_brand).astype(int)\n",
    "    df['luxury_brand'] = df.brand.isin(luxury_brand).astype(int)\n",
    "\n",
    "    df['accident_encoded'] = df['accident'].map(accident_dict)\n",
    "    df['clean_title_encoded'] = df['clean_title'].map(clean_title_dict)\n",
    "    df['expensive_color_ext_encoded'] = df.ext_col.isin(expensive_ext_color).astype(int)\n",
    "    df['expensive_color_int_encoded'] = df.int_col.isin(expensive_int_color).astype(int)\n",
    "    df['inexpensive_color_ext_encoded'] = df.ext_col.isin(inexpensive_ext_color).astype(int)\n",
    "    df['inexpensive_color_int_encoded'] = df.int_col.isin(inexpensive_int_color).astype(int)\n",
    "\n",
    "    df['engine_fuel_type'].replace('dash', np.nan)\n",
    "    df['engine_fuel_type'] = df.engine_fuel_type.fillna(df['fuel_type'])\n",
    "    df['engine_fuel_type'] = df.engine_fuel_type.replace('Flexible', 'Flex').replace('E85 Flex Fuel', 'Flex')\n",
    "\n",
    "    df['engine_HP_per_L'] = df['engine_HP']/df['engine_L']\n",
    "    \n",
    "    return df\n",
    "\n",
    "train = pd.concat([train, pd.DataFrame.from_records(train['engine'].map(convert_engine).values)], axis = 1)\n",
    "test = pd.concat([test, pd.DataFrame.from_records(test['engine'].map(convert_engine).values)], axis = 1)\n",
    "\n",
    "\n",
    "train = encode_columns(train)\n",
    "test = encode_columns(test)"
   ]
  },
  {
   "cell_type": "code",
   "execution_count": 20,
   "id": "4e641ec5",
   "metadata": {},
   "outputs": [],
   "source": [
    "INPUT_COLS = ['model_year', 'milage', 'milage_per_year', 'engine_fuel_type', \n",
    "       'low_end_brand', 'mid_range_brand', 'high_end_brand', 'luxury_brand', \n",
    "       'turbo_engine', 'dohc_engine', 'supercharged_engine', 'ohv_engine',\n",
    "       'accident_encoded', 'clean_title_encoded',\n",
    "       'inexpensive_color_int_encoded',  'inexpensive_color_ext_encoded',\n",
    "       'expensive_color_ext_encoded', 'expensive_color_int_encoded',\n",
    "       'auto_transmission', 'manual_transmission', 'engine_HP', 'engine_L', 'engine_HP_per_L',\n",
    "       'engine_cylinder', 'engine_cylinder_type', 'engine_v', 'engine_vtype']\n",
    "\n",
    "TARGET_NAME = 'price'\n",
    "\n",
    "train_df, val_df = train_test_split(train, test_size=TEST_SIZE, stratify=train[TARGET_NAME] ,random_state=RANDOM_STATE)"
   ]
  },
  {
   "cell_type": "code",
   "execution_count": 21,
   "id": "22d2d78a",
   "metadata": {},
   "outputs": [],
   "source": [
    "X_train = train[INPUT_COLS].copy()\n",
    "Y_train = train[TARGET_NAME].copy()\n",
    "\n",
    "test_inputs = test[INPUT_COLS].copy()\n",
    "\n",
    "numeric_cols = X_train.select_dtypes(include=np.number).columns.tolist()\n",
    "categorical_cols = X_train.select_dtypes('object').columns.tolist()"
   ]
  },
  {
   "cell_type": "code",
   "execution_count": 22,
   "id": "7caaebef",
   "metadata": {},
   "outputs": [
    {
     "name": "stderr",
     "output_type": "stream",
     "text": [
      "/tmp/ipykernel_2929/3567054896.py:20: SettingWithCopyWarning: \n",
      "A value is trying to be set on a copy of a slice from a DataFrame.\n",
      "Try using .loc[row_indexer,col_indexer] = value instead\n",
      "\n",
      "See the caveats in the documentation: https://pandas.pydata.org/pandas-docs/stable/user_guide/indexing.html#returning-a-view-versus-a-copy\n",
      "  train_df['price'] = Y_train\n"
     ]
    }
   ],
   "source": [
    "imputer = SimpleImputer(strategy='mean').fit(X_train[numeric_cols])\n",
    "\n",
    "X_train[numeric_cols] = imputer.transform(X_train[numeric_cols])\n",
    "test_inputs[numeric_cols] = imputer.transform(test_inputs[numeric_cols])\n",
    "\n",
    "scaler = MinMaxScaler().fit(X_train[numeric_cols])\n",
    "\n",
    "X_train[numeric_cols] = scaler.transform(X_train[numeric_cols])\n",
    "test_inputs[numeric_cols] = scaler.transform(test_inputs[numeric_cols])\n",
    "\n",
    "encoder = OneHotEncoder(sparse_output=False, handle_unknown='ignore').fit(X_train[categorical_cols])\n",
    "encoded_cols = list(encoder.get_feature_names_out(categorical_cols))\n",
    "\n",
    "X_train[encoded_cols] = encoder.transform(X_train[categorical_cols])\n",
    "test_inputs[encoded_cols] = encoder.transform(test_inputs[categorical_cols])\n",
    "\n",
    "train_df = X_train[numeric_cols + encoded_cols]\n",
    "test = test_inputs[numeric_cols + encoded_cols]\n",
    "\n",
    "train_df['price'] = Y_train\n",
    "\n",
    "numeric_cols_df = train_df.select_dtypes(include=np.number).columns.tolist()\n",
    "categorical_cols_df = train_df.select_dtypes('object').columns.tolist()"
   ]
  },
  {
   "cell_type": "code",
   "execution_count": 23,
   "id": "1589fd13",
   "metadata": {},
   "outputs": [],
   "source": [
    "train_data, val_data = train_test_split(train_df, \n",
    "                                     test_size=TEST_SIZE,\n",
    "                                      stratify=train[TARGET_NAME],\n",
    "                                     random_state=RANDOM_STATE)"
   ]
  },
  {
   "cell_type": "code",
   "execution_count": 24,
   "id": "ac69f08e",
   "metadata": {},
   "outputs": [],
   "source": [
    "task = Task('reg', loss='rmsle', metric='rmsle')\n",
    "\n",
    "roles = {\n",
    "    'target': TARGET_NAME,\n",
    "}"
   ]
  },
  {
   "cell_type": "code",
   "execution_count": 25,
   "id": "5c8b055c",
   "metadata": {},
   "outputs": [],
   "source": [
    "automl = TabularAutoML(task = task,\n",
    "                        timeout = TIMEOUT,\n",
    "                        cpu_limit = N_THREADS,\n",
    "                        reader_params = {'n_jobs': N_THREADS, 'cv': N_FOLDS, 'random_state': RANDOM_STATE})\n",
    "train_preds = automl.fit_predict(train_data, roles = roles, verbose = 0)"
   ]
  },
  {
   "cell_type": "code",
   "execution_count": 26,
   "id": "6c45faf4",
   "metadata": {},
   "outputs": [
    {
     "name": "stdout",
     "output_type": "stream",
     "text": [
      "Check scores....\n",
      "Holdout score: 0.49190925120204015\n",
      "Holdout score full: 0.49190925120204015\n",
      "Difference: 0.0\n",
      "Check scores....\n",
      "Holdout score: 0.49190925120204015\n",
      "Holdout score full: 0.49190925120204015\n",
      "Difference: 0.0\n"
     ]
    }
   ],
   "source": [
    "cnt_trained = 0\n",
    "results = []\n",
    "rs_list = list(range(42, 44))\n",
    "for it, rs in enumerate(rs_list):\n",
    "    automl = TabularAutoML(task = task,\n",
    "                        timeout = TIMEOUT,\n",
    "                        cpu_limit = N_THREADS,\n",
    "                        reader_params = {'n_jobs': N_THREADS, 'cv': N_FOLDS, 'random_state': RANDOM_STATE})\n",
    "    oof_pred = automl.fit_predict(train_data, roles = roles, verbose = 0)\n",
    "    val_pred = automl.fit_predict(val_data, roles = roles, verbose = 0)\n",
    "    cnt_trained += 1\n",
    "\n",
    "    if it == 0:\n",
    "        oof_pred_full = oof_pred.data[:, 0].copy()\n",
    "        val_pred_full = val_pred.data[:, 0].copy()\n",
    "    else :\n",
    "        oof_pred_full += oof_pred.data[:, 0]\n",
    "        val_pred_full += val_pred.data[:, 0]\n",
    "\n",
    "    rmsle_usual = mean_squared_log_error(val_data['price'].values, val_pred.data[:, 0]) ** 0.5\n",
    "    rmsle_full = mean_squared_log_error(val_data['price'].values, val_pred_full/cnt_trained) ** 0.5\n",
    "    results.append((rmsle_usual, rmsle_full, rmsle_full-rmsle_usual))\n",
    "    \n",
    "    print('Check scores....')\n",
    "    print('Holdout score: {}'.format(rmsle_usual))\n",
    "    print('Holdout score full: {}'.format(rmsle_full))\n",
    "    print('Difference: {}'.format(rmsle_full - rmsle_usual))"
   ]
  },
  {
   "cell_type": "code",
   "execution_count": 27,
   "id": "909d3ff2",
   "metadata": {},
   "outputs": [
    {
     "data": {
      "text/plain": [
       "array([37032.99 , 41049.125, 58897.008, ..., 13268.654, 62818.418,\n",
       "       41147.605], dtype=float32)"
      ]
     },
     "execution_count": 27,
     "metadata": {},
     "output_type": "execute_result"
    }
   ],
   "source": [
    "test_pred_full_0 = val_pred_full.copy() / cnt_trained\n",
    "test_pred_full_0"
   ]
  },
  {
   "cell_type": "code",
   "execution_count": 28,
   "id": "19ac9fee",
   "metadata": {},
   "outputs": [
    {
     "data": {
      "image/png": "[encoded data removed]",
      "text/plain": [
       "<Figure size 2000x1000 with 1 Axes>"
      ]
     },
     "metadata": {},
     "output_type": "display_data"
    }
   ],
   "source": [
    "plt.figure(figsize = (20, 10))\n",
    "plt.plot(range(1, cnt_trained + 1), [res[0] for res in results], color = 'b', linewidth = 2, label = 'Usual LightAutoML model RMSLE')\n",
    "plt.plot(range(1, cnt_trained + 1), [res[1] for res in results], color = 'g', linewidth = 2, label = 'RMSLE for averaged LightAutoMLs')\n",
    "plt.grid()\n",
    "plt.legend()\n",
    "plt.title('LightAutoML RMSLE vs. averaged LightAutoMLs composition RMSLE')\n",
    "plt.xlabel('Iteration number')\n",
    "plt.ylabel('RMSLE')\n",
    "plt.show()"
   ]
  },
  {
   "cell_type": "code",
   "execution_count": 29,
   "id": "cff1d6b7",
   "metadata": {},
   "outputs": [
    {
     "data": {
      "text/plain": [
       "0.49190925120204015"
      ]
     },
     "execution_count": 29,
     "metadata": {},
     "output_type": "execute_result"
    }
   ],
   "source": [
    "mean_rmsle = np.mean([res[0] for res in results])\n",
    "mean_rmsle"
   ]
  },
  {
   "cell_type": "code",
   "execution_count": 30,
   "id": "f69f9e80",
   "metadata": {},
   "outputs": [],
   "source": [
    "differences = np.array([res[1] - mean_rmsle for res in results])"
   ]
  },
  {
   "cell_type": "code",
   "execution_count": 31,
   "id": "07f0fa19",
   "metadata": {},
   "outputs": [
    {
     "data": {
      "image/png": "[encoded data removed]",
      "text/plain": [
       "<Figure size 2000x1000 with 1 Axes>"
      ]
     },
     "metadata": {},
     "output_type": "display_data"
    }
   ],
   "source": [
    "plt.figure(figsize = (20, 10))\n",
    "plt.plot(range(1, cnt_trained + 1), differences, color = 'g', linewidth = 2, label = 'Difference')\n",
    "plt.plot(range(1, cnt_trained + 1), [np.mean(differences[0:i+1]) for i in range(len(differences))], 'b-.', linewidth = 2, label = 'Cumulative mean difference')\n",
    "plt.plot(range(1, cnt_trained + 1), [0.0 for res in results], 'r--', linewidth = 2, label = 'Zero line')\n",
    "plt.grid()\n",
    "plt.legend()\n",
    "plt.title('Difference between mean LightAutoML RMSLE and averaged LightAutoMLs composition RMSLE at each iteration')\n",
    "plt.xlabel('Iteration number')\n",
    "plt.ylabel('RMSLE difference')\n",
    "plt.show()"
   ]
  },
  {
   "cell_type": "code",
   "execution_count": 32,
   "id": "36a91f56",
   "metadata": {},
   "outputs": [
    {
     "name": "stdout",
     "output_type": "stream",
     "text": [
      "(150826, 42) (188533, 42)\n"
     ]
    }
   ],
   "source": [
    "data_with_pseudolabels = val_data.copy()\n",
    "data_with_pseudolabels['price'] = test_pred_full_0.copy() \n",
    "\n",
    "new_dataset = pd.concat([train_data, data_with_pseudolabels]).sample(frac = 1, random_state = 13).reset_index(drop = True)\n",
    "print(train_data.shape, new_dataset.shape)"
   ]
  },
  {
   "cell_type": "code",
   "execution_count": 33,
   "id": "b86dbd44",
   "metadata": {},
   "outputs": [
    {
     "data": {
      "text/plain": [
       "count    1.508260e+05\n",
       "mean     4.388875e+04\n",
       "std      7.889816e+04\n",
       "min      2.000000e+03\n",
       "25%      1.700000e+04\n",
       "50%      3.082500e+04\n",
       "75%      4.990000e+04\n",
       "max      2.954083e+06\n",
       "Name: price, dtype: float64"
      ]
     },
     "execution_count": 33,
     "metadata": {},
     "output_type": "execute_result"
    }
   ],
   "source": [
    "train_data['price'].describe()"
   ]
  },
  {
   "cell_type": "code",
   "execution_count": 34,
   "id": "517763a7",
   "metadata": {},
   "outputs": [
    {
     "data": {
      "text/plain": [
       "count    1.885330e+05\n",
       "mean     4.243369e+04\n",
       "std      7.143968e+04\n",
       "min      2.000000e+03\n",
       "25%      1.700000e+04\n",
       "50%      3.100000e+04\n",
       "75%      4.970349e+04\n",
       "max      2.954083e+06\n",
       "Name: price, dtype: float64"
      ]
     },
     "execution_count": 34,
     "metadata": {},
     "output_type": "execute_result"
    }
   ],
   "source": [
    "new_dataset['price'].describe()"
   ]
  },
  {
   "cell_type": "code",
   "execution_count": 36,
   "id": "30395fb2",
   "metadata": {},
   "outputs": [
    {
     "name": "stdout",
     "output_type": "stream",
     "text": [
      "==============================\n",
      "START RANDOM_STATE = 42\n",
      "==============================\n",
      "Check scores...\n",
      "Holdout score: 0.48685357995469736\n",
      "Holdout score full: 0.48685357995469736\n",
      "Difference: 0.0\n",
      "==============================\n",
      "START RANDOM_STATE = 43\n",
      "==============================\n",
      "Check scores...\n",
      "Holdout score: 0.4870306555579446\n",
      "Holdout score full: 0.4868090446321132\n",
      "Difference: -0.00022161092583139474\n"
     ]
    }
   ],
   "source": [
    "cnt_trained = 0\n",
    "results = []\n",
    "rs_list = list(range(42, 44))\n",
    "for it, rs in enumerate(rs_list):\n",
    "    print('=' * 30)\n",
    "    print('START RANDOM_STATE = {}'.format(rs))\n",
    "    print('=' * 30)\n",
    "    \n",
    "    # Train AutoML\n",
    "    automl = TabularAutoML(task = task, \n",
    "                       timeout = TIMEOUT,\n",
    "                       cpu_limit = N_THREADS,\n",
    "                       reader_params = {'n_jobs': N_THREADS, 'cv': N_FOLDS, 'random_state': rs})\n",
    "    oof_pred = automl.fit_predict(new_dataset, roles = roles, verbose = 0)\n",
    "    \n",
    "    # Predict on test\n",
    "    test_pred = automl.predict(val_data)\n",
    "    cnt_trained += 1\n",
    "    \n",
    "    # Save predictions\n",
    "    if it == 0:\n",
    "        oof_pred_full = oof_pred.data[:, 0].copy()\n",
    "        test_pred_full = test_pred.data[:, 0].copy()\n",
    "    else:\n",
    "        oof_pred_full += oof_pred.data[:, 0]\n",
    "        test_pred_full += test_pred.data[:, 0]\n",
    "    \n",
    "    # Check scores for current predict and aggregated one\n",
    "    rmsle_usual = mean_squared_log_error(val_data['price'].values, test_pred.data[:, 0]) ** 0.5\n",
    "    rmsle_full = mean_squared_log_error(val_data['price'].values, test_pred_full / cnt_trained) ** 0.5\n",
    "    results.append((rmsle_usual, rmsle_full, rmsle_full - rmsle_usual))\n",
    "    \n",
    "    print('Check scores...')\n",
    "    print('Holdout score: {}'.format(rmsle_usual))\n",
    "    print('Holdout score full: {}'.format(rmsle_full))\n",
    "    print('Difference: {}'.format(rmsle_full - rmsle_usual))\n",
    "\n"
   ]
  },
  {
   "cell_type": "code",
   "execution_count": 37,
   "id": "8e815337",
   "metadata": {},
   "outputs": [
    {
     "data": {
      "image/png": "[encoded data removed]",
      "text/plain": [
       "<Figure size 2000x1000 with 1 Axes>"
      ]
     },
     "metadata": {},
     "output_type": "display_data"
    }
   ],
   "source": [
    "plt.figure(figsize = (20, 10))\n",
    "plt.plot(range(1, cnt_trained + 1), [res[0] for res in results], color = 'b', linewidth = 2, label = 'Usual LightAutoML model RMSLE')\n",
    "plt.plot(range(1, cnt_trained + 1), [res[1] for res in results], color = 'g', linewidth = 2, label = 'RMSLE for averaged LightAutoMLs')\n",
    "plt.grid()\n",
    "plt.legend()\n",
    "plt.title('LightAutoML RMSLE vs. averaged LightAutoMLs composition RMSLE')\n",
    "plt.xlabel('Iteration number')\n",
    "plt.ylabel('RMSLE')\n",
    "plt.show()"
   ]
  },
  {
   "cell_type": "code",
   "execution_count": 38,
   "id": "1505578d",
   "metadata": {},
   "outputs": [
    {
     "data": {
      "text/plain": [
       "0.486942117756321"
      ]
     },
     "execution_count": 38,
     "metadata": {},
     "output_type": "execute_result"
    }
   ],
   "source": [
    "mean_rmsle = np.mean([res[0] for res in results])\n",
    "mean_rmsle"
   ]
  },
  {
   "cell_type": "code",
   "execution_count": 39,
   "id": "b59bec00",
   "metadata": {},
   "outputs": [],
   "source": [
    "differences = np.array([res[1] - mean_rmsle for res in results])"
   ]
  },
  {
   "cell_type": "code",
   "execution_count": 40,
   "id": "f96579ea",
   "metadata": {},
   "outputs": [
    {
     "data": {
      "image/png": "[encoded data removed]",
      "text/plain": [
       "<Figure size 2000x1000 with 1 Axes>"
      ]
     },
     "metadata": {},
     "output_type": "display_data"
    }
   ],
   "source": [
    "plt.figure(figsize = (20, 10))\n",
    "plt.plot(range(1, cnt_trained + 1), differences, color = 'g', linewidth = 2, label = 'Difference')\n",
    "plt.plot(range(1, cnt_trained + 1), [np.mean(differences[0:i+1]) for i in range(len(differences))], 'b-.', linewidth = 2, label = 'Cumulative mean difference')\n",
    "plt.plot(range(1, cnt_trained + 1), [0.0 for res in results], 'r--', linewidth = 2, label = 'Zero line')\n",
    "plt.grid()\n",
    "plt.legend()\n",
    "plt.title('Difference between mean LightAutoML RMSLE and averaged LightAutoMLs composition RMSLE at each iteration')\n",
    "plt.xlabel('Iteration number')\n",
    "plt.ylabel('RMSLE difference')\n",
    "plt.show()"
   ]
  },
  {
   "cell_type": "code",
   "execution_count": 42,
   "id": "3250c34f",
   "metadata": {},
   "outputs": [
    {
     "name": "stdout",
     "output_type": "stream",
     "text": [
      "==============================\n",
      "START RANDOM_STATE = 42\n",
      "==============================\n",
      "Check scores...\n",
      "OOF score: 0.4897980895352128\n",
      "OOF score full: 0.4897980895352128\n",
      "Difference: 0.0\n",
      "==============================\n",
      "START RANDOM_STATE = 43\n",
      "==============================\n",
      "Check scores...\n",
      "OOF score: 0.4900505511570448\n",
      "OOF score full: 0.4891455668145082\n",
      "Difference: -0.0009049843425366078\n"
     ]
    }
   ],
   "source": [
    "cnt_trained = 0\n",
    "results = []\n",
    "rs_list = list(range(42, 44))\n",
    "for it, rs in enumerate(rs_list):\n",
    "    print('=' * 30)\n",
    "    print('START RANDOM_STATE = {}'.format(rs))\n",
    "    print('=' * 30)\n",
    "    \n",
    "    automl = TabularAutoML(task = task, \n",
    "                       timeout = TIMEOUT,\n",
    "                       cpu_limit = N_THREADS,\n",
    "                       reader_params = {'n_jobs': N_THREADS, 'cv': N_FOLDS, 'random_state': rs})\n",
    "    oof_pred = automl.fit_predict(train_df, roles = roles, verbose = 0)\n",
    "    \n",
    "    test_pred = automl.predict(test)\n",
    "    cnt_trained += 1\n",
    "    \n",
    "    if it == 0:\n",
    "        oof_pred_full = oof_pred.data[:, 0].copy()\n",
    "        test_pred_full = test_pred.data[:, 0].copy()\n",
    "    else:\n",
    "        oof_pred_full += oof_pred.data[:, 0]\n",
    "        test_pred_full += test_pred.data[:, 0]\n",
    "    \n",
    "    rmsle_usual = mean_squared_log_error(train_df['price'].values, oof_pred.data[:, 0]) ** 0.5\n",
    "    rmsle_full = mean_squared_log_error(train_df['price'].values, oof_pred_full / cnt_trained) ** 0.5\n",
    "    results.append((rmsle_usual, rmsle_full, rmsle_full - rmsle_usual))\n",
    "    \n",
    "    print('Check scores...')\n",
    "    print('OOF score: {}'.format(rmsle_usual))\n",
    "    print('OOF score full: {}'.format(rmsle_full))\n",
    "    print('Difference: {}'.format(rmsle_full - rmsle_usual))"
   ]
  },
  {
   "cell_type": "code",
   "execution_count": 43,
   "id": "f31b902f",
   "metadata": {},
   "outputs": [],
   "source": [
    "test_pred_full_0 = test_pred_full.copy() / cnt_trained"
   ]
  },
  {
   "cell_type": "code",
   "execution_count": 44,
   "id": "f03c140b",
   "metadata": {},
   "outputs": [
    {
     "name": "stdout",
     "output_type": "stream",
     "text": [
      "(188533, 42) (314223, 42)\n"
     ]
    }
   ],
   "source": [
    "test_data_with_pseudolabels = test.copy()\n",
    "test_data_with_pseudolabels['price'] = test_pred_full_0\n",
    "\n",
    "full_dataset = pd.concat([train_df, test_data_with_pseudolabels]).sample(frac = 1, random_state = 13).reset_index(drop = True)\n",
    "print(train_df.shape, full_dataset.shape)"
   ]
  },
  {
   "cell_type": "code",
   "execution_count": 45,
   "id": "a2ee0a79",
   "metadata": {},
   "outputs": [
    {
     "name": "stdout",
     "output_type": "stream",
     "text": [
      "==============================\n",
      "START RANDOM_STATE = 42\n",
      "==============================\n",
      "==============================\n",
      "START RANDOM_STATE = 43\n",
      "==============================\n"
     ]
    }
   ],
   "source": [
    "cnt_trained = 0\n",
    "results = []\n",
    "rs_list = list(range(42, 44))\n",
    "for it, rs in enumerate(rs_list):\n",
    "    print('=' * 30)\n",
    "    print('START RANDOM_STATE = {}'.format(rs))\n",
    "    print('=' * 30)\n",
    "    \n",
    "    automl = TabularAutoML(task = task, \n",
    "                       timeout = TIMEOUT,\n",
    "                       cpu_limit = N_THREADS,\n",
    "                       general_params = {'use_algos': ['lgb', 'lgb_tuned', 'cb', 'cb_tuned']},\n",
    "                       reader_params = {'n_jobs': N_THREADS, 'cv': N_FOLDS, 'random_state': rs})\n",
    "    oof_pred = automl.fit_predict(full_dataset, roles = roles, verbose = 0)\n",
    "    \n",
    "    test_pred = automl.predict(test)\n",
    "    cnt_trained += 1\n",
    "    \n",
    "    if it == 0:\n",
    "        oof_pred_full = oof_pred.data[:, 0].copy()\n",
    "        test_pred_full = test_pred.data[:, 0].copy()\n",
    "    else:\n",
    "        oof_pred_full += oof_pred.data[:, 0]\n",
    "        test_pred_full += test_pred.data[:, 0]"
   ]
  },
  {
   "cell_type": "code",
   "execution_count": 46,
   "id": "a05b0a03",
   "metadata": {},
   "outputs": [],
   "source": [
    "sub['price'] = test_pred_full / cnt_trained\n",
    "sub.to_csv('LightAutoML_pseudolabelled_multistart.csv', index = False)"
   ]
  },
  {
   "cell_type": "code",
   "execution_count": 39,
   "id": "07c8a9b4",
   "metadata": {},
   "outputs": [
    {
     "data": {
      "text/plain": [
       "array([[64332.254],\n",
       "       [44734.523],\n",
       "       [42009.16 ],\n",
       "       ...,\n",
       "       [25669.2  ],\n",
       "       [36003.04 ],\n",
       "       [47744.145]], dtype=float32)"
      ]
     },
     "execution_count": 39,
     "metadata": {},
     "output_type": "execute_result"
    }
   ],
   "source": [
    "Y_train = train_data[TARGET_NAME].copy().to_numpy()\n",
    "Y_val = val_data[TARGET_NAME].copy().to_numpy()\n",
    "type(Y_train)\n",
    "train_preds = automl.predict(train_data).to_numpy()\n",
    "val_preds = automl.predict(val_data).to_numpy()\n",
    "train_preds"
   ]
  },
  {
   "cell_type": "code",
   "execution_count": 42,
   "id": "3915087c",
   "metadata": {},
   "outputs": [
    {
     "name": "stdout",
     "output_type": "stream",
     "text": [
      "73141.140625\n",
      "73142.703125\n"
     ]
    }
   ],
   "source": [
    "Y_train = train_data[TARGET_NAME].copy().to_numpy()\n",
    "Y_val = val_data[TARGET_NAME].copy().to_numpy()\n",
    "\n",
    "train_preds = automl.predict(train_data).data\n",
    "val_preds = automl.predict(val_data).data\n",
    "\n",
    "print(rmse(Y_train, train_preds))\n",
    "print(rmse(Y_val, val_preds))"
   ]
  },
  {
   "cell_type": "markdown",
   "id": "ba51bc1b",
   "metadata": {},
   "source": [
    "Task('reg', loss='mae', metric='mae') 73141.140625 73142.703125"
   ]
  },
  {
   "cell_type": "code",
   "execution_count": 43,
   "id": "b888aceb",
   "metadata": {},
   "outputs": [],
   "source": [
    "test_preds = automl.predict(test)\n",
    "sub['price'] = test_preds.data[:,0]\n",
    "sub.to_csv('lightautoml_submision.csv', index=None)"
   ]
  },
  {
   "cell_type": "code",
   "execution_count": null,
   "id": "095fc298",
   "metadata": {},
   "outputs": [
    {
     "name": "stdout",
     "output_type": "stream",
     "text": [
      "[17:56:41] Start automl \u001b[1mutilizator\u001b[0m with listed constraints:\n",
      "[17:56:41] - time: 3600.00 seconds\n",
      "[17:56:41] - CPU: 16 cores\n",
      "[17:56:41] - memory: 16 GB\n",
      "\n",
      "[17:56:41] \u001b[1mIf one preset completes earlier, next preset configuration will be started\u001b[0m\n",
      "\n",
      "[17:56:41] ==================================================\n",
      "[17:56:41] Start 0 automl preset configuration:\n",
      "[17:56:41] \u001b[1mconf_0_sel_type_0.yml\u001b[0m, random state: {'reader_params': {'random_state': 42}, 'nn_params': {'random_state': 42}, 'general_params': {'return_all_predictions': False}}\n",
      "[17:56:41] Stdout logging level is INFO.\n",
      "[17:56:41] Task: reg\n",
      "\n",
      "[17:56:41] Start automl preset with listed constraints:\n",
      "[17:56:41] - time: 3600.00 seconds\n",
      "[17:56:41] - CPU: 16 cores\n",
      "[17:56:41] - memory: 16 GB\n",
      "\n",
      "[17:56:41] \u001b[1mTrain data shape: (150826, 42)\u001b[0m\n",
      "\n",
      "[17:56:45] Layer \u001b[1m1\u001b[0m train process start. Time left 3595.59 secs\n",
      "[17:56:52] Start fitting \u001b[1mLvl_0_Pipe_0_Mod_0_LinearL2\u001b[0m ...\n",
      "[17:57:07] Fitting \u001b[1mLvl_0_Pipe_0_Mod_0_LinearL2\u001b[0m finished. score = \u001b[1m-5391927808.0\u001b[0m\n",
      "[17:57:07] \u001b[1mLvl_0_Pipe_0_Mod_0_LinearL2\u001b[0m fitting and predicting completed\n",
      "[17:57:07] Time left 3574.19 secs\n",
      "\n",
      "[17:57:13] Start fitting \u001b[1mLvl_0_Pipe_1_Mod_0_LightGBM\u001b[0m ...\n",
      "[17:57:32] Fitting \u001b[1mLvl_0_Pipe_1_Mod_0_LightGBM\u001b[0m finished. score = \u001b[1m-5278160896.0\u001b[0m\n",
      "[17:57:32] \u001b[1mLvl_0_Pipe_1_Mod_0_LightGBM\u001b[0m fitting and predicting completed\n",
      "[17:57:32] Start hyperparameters optimization for \u001b[1mLvl_0_Pipe_1_Mod_1_Tuned_LightGBM\u001b[0m ... Time budget is 300.00 secs\n"
     ]
    },
    {
     "name": "stderr",
     "output_type": "stream",
     "text": [
      "Optimization Progress: 100%|██████████| 101/101 [03:22<00:00,  2.00s/it, best_trial=82, best_value=-5.85e+9]"
     ]
    },
    {
     "name": "stdout",
     "output_type": "stream",
     "text": [
      "[18:00:54] Hyperparameters optimization for \u001b[1mLvl_0_Pipe_1_Mod_1_Tuned_LightGBM\u001b[0m completed\n",
      "[18:00:54] Start fitting \u001b[1mLvl_0_Pipe_1_Mod_1_Tuned_LightGBM\u001b[0m ...\n"
     ]
    },
    {
     "name": "stderr",
     "output_type": "stream",
     "text": [
      "\n"
     ]
    },
    {
     "name": "stdout",
     "output_type": "stream",
     "text": [
      "[18:01:16] Fitting \u001b[1mLvl_0_Pipe_1_Mod_1_Tuned_LightGBM\u001b[0m finished. score = \u001b[1m-5265338368.0\u001b[0m\n",
      "[18:01:16] \u001b[1mLvl_0_Pipe_1_Mod_1_Tuned_LightGBM\u001b[0m fitting and predicting completed\n",
      "[18:01:16] Start fitting \u001b[1mLvl_0_Pipe_1_Mod_2_CatBoost\u001b[0m ...\n",
      "[18:01:38] Fitting \u001b[1mLvl_0_Pipe_1_Mod_2_CatBoost\u001b[0m finished. score = \u001b[1m-5298457600.0\u001b[0m\n",
      "[18:01:38] \u001b[1mLvl_0_Pipe_1_Mod_2_CatBoost\u001b[0m fitting and predicting completed\n",
      "[18:01:38] Start hyperparameters optimization for \u001b[1mLvl_0_Pipe_1_Mod_3_Tuned_CatBoost\u001b[0m ... Time budget is 300.00 secs\n"
     ]
    },
    {
     "name": "stderr",
     "output_type": "stream",
     "text": [
      "Optimization Progress: 100%|██████████| 101/101 [03:44<00:00,  2.22s/it, best_trial=19, best_value=-5.9e+9]"
     ]
    },
    {
     "name": "stdout",
     "output_type": "stream",
     "text": [
      "[18:05:23] Hyperparameters optimization for \u001b[1mLvl_0_Pipe_1_Mod_3_Tuned_CatBoost\u001b[0m completed\n",
      "[18:05:23] Start fitting \u001b[1mLvl_0_Pipe_1_Mod_3_Tuned_CatBoost\u001b[0m ...\n"
     ]
    },
    {
     "name": "stderr",
     "output_type": "stream",
     "text": [
      "\n"
     ]
    },
    {
     "name": "stdout",
     "output_type": "stream",
     "text": [
      "[18:05:54] Fitting \u001b[1mLvl_0_Pipe_1_Mod_3_Tuned_CatBoost\u001b[0m finished. score = \u001b[1m-5281624576.0\u001b[0m\n",
      "[18:05:54] \u001b[1mLvl_0_Pipe_1_Mod_3_Tuned_CatBoost\u001b[0m fitting and predicting completed\n",
      "[18:05:54] Time left 3047.21 secs\n",
      "\n",
      "[18:05:54] \u001b[1mLayer 1 training completed.\u001b[0m\n",
      "\n",
      "[18:05:54] Blending: optimization starts with equal weights. Score = \u001b[1m-5258263552.0000000\u001b[0m\n",
      "[18:05:54] Blending: iteration \u001b[1m0\u001b[0m: score = \u001b[1m-5246209536.0000000\u001b[0m, weights = \u001b[1m[0.         0.20791404 0.48771343 0.14757343 0.15679914]\u001b[0m\n",
      "[18:05:54] Blending: iteration \u001b[1m1\u001b[0m: score = \u001b[1m-5246177280.0000000\u001b[0m, weights = \u001b[1m[0.         0.23466448 0.46850163 0.14800753 0.1488264 ]\u001b[0m\n",
      "[18:05:54] Blending: iteration \u001b[1m2\u001b[0m: score = \u001b[1m-5246176256.0000000\u001b[0m, weights = \u001b[1m[0.         0.23131356 0.4705529  0.14865556 0.14947803]\u001b[0m\n",
      "[18:05:54] Blending: no improvements for score. Terminated.\n",
      "\n",
      "[18:05:54] Blending: best score = \u001b[1m-5246176256.0000000\u001b[0m, best weights = \u001b[1m[0.         0.23131356 0.4705529  0.14865556 0.14947803]\u001b[0m\n",
      "[18:05:54] \u001b[1mAutoml preset training completed in 553.23 seconds\u001b[0m\n",
      "\n",
      "[18:05:54] Model description:\n",
      "Final prediction for new objects (level 0) = \n",
      "\t 0.23131 * (10 averaged models Lvl_0_Pipe_1_Mod_0_LightGBM) +\n",
      "\t 0.47055 * (10 averaged models Lvl_0_Pipe_1_Mod_1_Tuned_LightGBM) +\n",
      "\t 0.14866 * (10 averaged models Lvl_0_Pipe_1_Mod_2_CatBoost) +\n",
      "\t 0.14948 * (10 averaged models Lvl_0_Pipe_1_Mod_3_Tuned_CatBoost) \n",
      "\n",
      "[18:05:54] ==================================================\n",
      "[18:05:54] Start 1 automl preset configuration:\n",
      "[18:05:54] \u001b[1mconf_1_sel_type_1.yml\u001b[0m, random state: {'reader_params': {'random_state': 43}, 'nn_params': {'random_state': 43}, 'general_params': {'return_all_predictions': False}}\n",
      "[18:05:54] Stdout logging level is INFO.\n",
      "[18:05:54] Task: reg\n",
      "\n",
      "[18:05:54] Start automl preset with listed constraints:\n",
      "[18:05:54] - time: 3046.74 seconds\n",
      "[18:05:54] - CPU: 16 cores\n",
      "[18:05:54] - memory: 16 GB\n",
      "\n",
      "[18:05:54] \u001b[1mTrain data shape: (150826, 42)\u001b[0m\n",
      "\n",
      "[18:05:59] Layer \u001b[1m1\u001b[0m train process start. Time left 3042.41 secs\n",
      "[18:06:05] Start fitting \u001b[1mLvl_0_Pipe_0_Mod_0_LinearL2\u001b[0m ...\n",
      "[18:06:17] Fitting \u001b[1mLvl_0_Pipe_0_Mod_0_LinearL2\u001b[0m finished. score = \u001b[1m-5390741504.0\u001b[0m\n",
      "[18:06:17] \u001b[1mLvl_0_Pipe_0_Mod_0_LinearL2\u001b[0m fitting and predicting completed\n",
      "[18:06:17] Time left 3023.66 secs\n",
      "\n",
      "[18:06:18] \u001b[1mSelector_LightGBM\u001b[0m fitting and predicting completed\n",
      "[18:06:24] Start fitting \u001b[1mLvl_0_Pipe_1_Mod_0_LightGBM\u001b[0m ...\n",
      "[18:06:35] Fitting \u001b[1mLvl_0_Pipe_1_Mod_0_LightGBM\u001b[0m finished. score = \u001b[1m-5284928512.0\u001b[0m\n",
      "[18:06:35] \u001b[1mLvl_0_Pipe_1_Mod_0_LightGBM\u001b[0m fitting and predicting completed\n",
      "[18:06:35] Start hyperparameters optimization for \u001b[1mLvl_0_Pipe_1_Mod_1_Tuned_LightGBM\u001b[0m ... Time budget is 300.00 secs\n"
     ]
    },
    {
     "name": "stderr",
     "output_type": "stream",
     "text": [
      "Optimization Progress: 100%|██████████| 101/101 [03:38<00:00,  2.16s/it, best_trial=89, best_value=-4.58e+9]"
     ]
    },
    {
     "name": "stdout",
     "output_type": "stream",
     "text": [
      "[18:10:13] Hyperparameters optimization for \u001b[1mLvl_0_Pipe_1_Mod_1_Tuned_LightGBM\u001b[0m completed\n",
      "[18:10:13] Start fitting \u001b[1mLvl_0_Pipe_1_Mod_1_Tuned_LightGBM\u001b[0m ...\n"
     ]
    },
    {
     "name": "stderr",
     "output_type": "stream",
     "text": [
      "\n"
     ]
    },
    {
     "name": "stdout",
     "output_type": "stream",
     "text": [
      "[18:10:39] Fitting \u001b[1mLvl_0_Pipe_1_Mod_1_Tuned_LightGBM\u001b[0m finished. score = \u001b[1m-5272606720.0\u001b[0m\n",
      "[18:10:39] \u001b[1mLvl_0_Pipe_1_Mod_1_Tuned_LightGBM\u001b[0m fitting and predicting completed\n",
      "[18:10:39] Start fitting \u001b[1mLvl_0_Pipe_1_Mod_2_CatBoost\u001b[0m ...\n",
      "[18:10:58] Fitting \u001b[1mLvl_0_Pipe_1_Mod_2_CatBoost\u001b[0m finished. score = \u001b[1m-5289117696.0\u001b[0m\n",
      "[18:10:58] \u001b[1mLvl_0_Pipe_1_Mod_2_CatBoost\u001b[0m fitting and predicting completed\n",
      "[18:10:58] Start hyperparameters optimization for \u001b[1mLvl_0_Pipe_1_Mod_3_Tuned_CatBoost\u001b[0m ... Time budget is 300.00 secs\n"
     ]
    },
    {
     "name": "stderr",
     "output_type": "stream",
     "text": [
      "Optimization Progress: 100%|██████████| 101/101 [03:37<00:00,  2.15s/it, best_trial=85, best_value=-4.66e+9]"
     ]
    },
    {
     "name": "stdout",
     "output_type": "stream",
     "text": [
      "[18:14:35] Hyperparameters optimization for \u001b[1mLvl_0_Pipe_1_Mod_3_Tuned_CatBoost\u001b[0m completed\n",
      "[18:14:35] Start fitting \u001b[1mLvl_0_Pipe_1_Mod_3_Tuned_CatBoost\u001b[0m ...\n"
     ]
    },
    {
     "name": "stderr",
     "output_type": "stream",
     "text": [
      "\n"
     ]
    },
    {
     "name": "stdout",
     "output_type": "stream",
     "text": [
      "[18:14:50] Fitting \u001b[1mLvl_0_Pipe_1_Mod_3_Tuned_CatBoost\u001b[0m finished. score = \u001b[1m-5297069568.0\u001b[0m\n",
      "[18:14:50] \u001b[1mLvl_0_Pipe_1_Mod_3_Tuned_CatBoost\u001b[0m fitting and predicting completed\n",
      "[18:14:50] Time left 2510.88 secs\n",
      "\n",
      "[18:14:50] \u001b[1mLayer 1 training completed.\u001b[0m\n",
      "\n",
      "[18:14:50] Blending: optimization starts with equal weights. Score = \u001b[1m-5265079296.0000000\u001b[0m\n",
      "[18:14:50] Blending: iteration \u001b[1m0\u001b[0m: score = \u001b[1m-5251752448.0000000\u001b[0m, weights = \u001b[1m[0.         0.19756769 0.5185117  0.2839206  0.        ]\u001b[0m\n",
      "[18:14:50] Blending: iteration \u001b[1m1\u001b[0m: score = \u001b[1m-5251337728.0000000\u001b[0m, weights = \u001b[1m[0.         0.19244336 0.45698833 0.35056835 0.        ]\u001b[0m\n",
      "[18:14:50] Blending: iteration \u001b[1m2\u001b[0m: score = \u001b[1m-5251291648.0000000\u001b[0m, weights = \u001b[1m[0.         0.16094704 0.4798659  0.3591871  0.        ]\u001b[0m\n",
      "[18:14:51] Blending: no improvements for score. Terminated.\n",
      "\n",
      "[18:14:51] Blending: best score = \u001b[1m-5251291648.0000000\u001b[0m, best weights = \u001b[1m[0.         0.16094704 0.4798659  0.3591871  0.        ]\u001b[0m\n",
      "[18:14:51] \u001b[1mAutoml preset training completed in 536.29 seconds\u001b[0m\n",
      "\n",
      "[18:14:51] Model description:\n",
      "Final prediction for new objects (level 0) = \n",
      "\t 0.16095 * (10 averaged models Lvl_0_Pipe_1_Mod_0_LightGBM) +\n",
      "\t 0.47987 * (10 averaged models Lvl_0_Pipe_1_Mod_1_Tuned_LightGBM) +\n",
      "\t 0.35919 * (10 averaged models Lvl_0_Pipe_1_Mod_2_CatBoost) \n",
      "\n",
      "[18:14:51] ==================================================\n",
      "[18:14:51] Start 2 automl preset configuration:\n",
      "[18:14:51] \u001b[1mconf_2_select_mode_1_no_typ.yml\u001b[0m, random state: {'reader_params': {'random_state': 44}, 'nn_params': {'random_state': 44}, 'general_params': {'return_all_predictions': False}}\n",
      "[18:14:51] Stdout logging level is INFO.\n",
      "[18:14:51] Task: reg\n",
      "\n",
      "[18:14:51] Start automl preset with listed constraints:\n",
      "[18:14:51] - time: 2510.43 seconds\n",
      "[18:14:51] - CPU: 16 cores\n",
      "[18:14:51] - memory: 16 GB\n",
      "\n",
      "[18:14:51] \u001b[1mTrain data shape: (150826, 42)\u001b[0m\n",
      "\n",
      "[18:14:51] Layer \u001b[1m1\u001b[0m train process start. Time left 2510.34 secs\n",
      "[18:14:51] Start fitting \u001b[1mLvl_0_Pipe_0_Mod_0_LinearL2\u001b[0m ...\n",
      "[18:14:56] Fitting \u001b[1mLvl_0_Pipe_0_Mod_0_LinearL2\u001b[0m finished. score = \u001b[1m-5437938176.0\u001b[0m\n",
      "[18:14:56] \u001b[1mLvl_0_Pipe_0_Mod_0_LinearL2\u001b[0m fitting and predicting completed\n",
      "[18:14:56] Time left 2504.61 secs\n",
      "\n",
      "[18:14:57] \u001b[1mSelector_LightGBM\u001b[0m fitting and predicting completed\n",
      "[18:14:57] Start fitting \u001b[1mLvl_0_Pipe_1_Mod_0_LightGBM\u001b[0m ...\n",
      "[18:15:06] Fitting \u001b[1mLvl_0_Pipe_1_Mod_0_LightGBM\u001b[0m finished. score = \u001b[1m-5318610432.0\u001b[0m\n",
      "[18:15:06] \u001b[1mLvl_0_Pipe_1_Mod_0_LightGBM\u001b[0m fitting and predicting completed\n",
      "[18:15:06] Start hyperparameters optimization for \u001b[1mLvl_0_Pipe_1_Mod_1_Tuned_LightGBM\u001b[0m ... Time budget is 300.00 secs\n"
     ]
    },
    {
     "name": "stderr",
     "output_type": "stream",
     "text": [
      "Optimization Progress: 100%|██████████| 101/101 [01:38<00:00,  1.02it/s, best_trial=99, best_value=-6.46e+9]"
     ]
    },
    {
     "name": "stdout",
     "output_type": "stream",
     "text": [
      "[18:16:45] Hyperparameters optimization for \u001b[1mLvl_0_Pipe_1_Mod_1_Tuned_LightGBM\u001b[0m completed\n",
      "[18:16:45] Start fitting \u001b[1mLvl_0_Pipe_1_Mod_1_Tuned_LightGBM\u001b[0m ...\n"
     ]
    },
    {
     "name": "stderr",
     "output_type": "stream",
     "text": [
      "\n"
     ]
    },
    {
     "name": "stdout",
     "output_type": "stream",
     "text": [
      "[18:16:53] Fitting \u001b[1mLvl_0_Pipe_1_Mod_1_Tuned_LightGBM\u001b[0m finished. score = \u001b[1m-5291610112.0\u001b[0m\n",
      "[18:16:53] \u001b[1mLvl_0_Pipe_1_Mod_1_Tuned_LightGBM\u001b[0m fitting and predicting completed\n",
      "[18:16:53] Start fitting \u001b[1mLvl_0_Pipe_1_Mod_2_CatBoost\u001b[0m ...\n",
      "[18:17:11] Fitting \u001b[1mLvl_0_Pipe_1_Mod_2_CatBoost\u001b[0m finished. score = \u001b[1m-5306531328.0\u001b[0m\n",
      "[18:17:11] \u001b[1mLvl_0_Pipe_1_Mod_2_CatBoost\u001b[0m fitting and predicting completed\n",
      "[18:17:11] Start hyperparameters optimization for \u001b[1mLvl_0_Pipe_1_Mod_3_Tuned_CatBoost\u001b[0m ... Time budget is 300.00 secs\n"
     ]
    },
    {
     "name": "stderr",
     "output_type": "stream",
     "text": [
      "Optimization Progress: 100%|██████████| 101/101 [03:01<00:00,  1.80s/it, best_trial=81, best_value=-6.46e+9]"
     ]
    },
    {
     "name": "stdout",
     "output_type": "stream",
     "text": [
      "[18:20:12] Hyperparameters optimization for \u001b[1mLvl_0_Pipe_1_Mod_3_Tuned_CatBoost\u001b[0m completed\n",
      "[18:20:12] Start fitting \u001b[1mLvl_0_Pipe_1_Mod_3_Tuned_CatBoost\u001b[0m ...\n"
     ]
    },
    {
     "name": "stderr",
     "output_type": "stream",
     "text": [
      "\n"
     ]
    },
    {
     "name": "stdout",
     "output_type": "stream",
     "text": [
      "[18:20:34] Fitting \u001b[1mLvl_0_Pipe_1_Mod_3_Tuned_CatBoost\u001b[0m finished. score = \u001b[1m-5296329728.0\u001b[0m\n",
      "[18:20:34] \u001b[1mLvl_0_Pipe_1_Mod_3_Tuned_CatBoost\u001b[0m fitting and predicting completed\n",
      "[18:20:34] Time left 2167.16 secs\n",
      "\n",
      "[18:20:34] \u001b[1mLayer 1 training completed.\u001b[0m\n",
      "\n",
      "[18:20:34] Blending: optimization starts with equal weights. Score = \u001b[1m-5294048768.0000000\u001b[0m\n",
      "[18:20:34] Blending: iteration \u001b[1m0\u001b[0m: score = \u001b[1m-5285928448.0000000\u001b[0m, weights = \u001b[1m[0.         0.12563561 0.42491138 0.1672069  0.28224605]\u001b[0m\n",
      "[18:20:34] Blending: iteration \u001b[1m1\u001b[0m: score = \u001b[1m-5285875200.0000000\u001b[0m, weights = \u001b[1m[0.         0.10966348 0.45464495 0.13531049 0.300381  ]\u001b[0m\n",
      "[18:20:34] Blending: iteration \u001b[1m2\u001b[0m: score = \u001b[1m-5285869568.0000000\u001b[0m, weights = \u001b[1m[0.         0.10899966 0.45811617 0.12322105 0.30966315]\u001b[0m\n",
      "[18:20:34] Blending: iteration \u001b[1m3\u001b[0m: score = \u001b[1m-5285869056.0000000\u001b[0m, weights = \u001b[1m[0.         0.10995875 0.458986   0.12270045 0.30835482]\u001b[0m\n",
      "[18:20:34] Blending: iteration \u001b[1m4\u001b[0m: score = \u001b[1m-5285868544.0000000\u001b[0m, weights = \u001b[1m[0.         0.11030909 0.45910662 0.11733493 0.31324935]\u001b[0m\n",
      "[18:20:34] Blending: best score = \u001b[1m-5285868544.0000000\u001b[0m, best weights = \u001b[1m[0.         0.11030909 0.45910662 0.11733493 0.31324935]\u001b[0m\n",
      "[18:20:34] \u001b[1mAutoml preset training completed in 343.87 seconds\u001b[0m\n",
      "\n",
      "[18:20:34] Model description:\n",
      "Final prediction for new objects (level 0) = \n",
      "\t 0.11031 * (10 averaged models Lvl_0_Pipe_1_Mod_0_LightGBM) +\n",
      "\t 0.45911 * (10 averaged models Lvl_0_Pipe_1_Mod_1_Tuned_LightGBM) +\n",
      "\t 0.11733 * (10 averaged models Lvl_0_Pipe_1_Mod_2_CatBoost) +\n",
      "\t 0.31325 * (10 averaged models Lvl_0_Pipe_1_Mod_3_Tuned_CatBoost) \n",
      "\n",
      "[18:20:34] ==================================================\n",
      "[18:20:34] Start 3 automl preset configuration:\n",
      "[18:20:34] \u001b[1mconf_3_sel_type_1_no_inter_lgbm.yml\u001b[0m, random state: {'reader_params': {'random_state': 45}, 'nn_params': {'random_state': 45}, 'general_params': {'return_all_predictions': False}}\n",
      "[18:20:34] Stdout logging level is INFO.\n",
      "[18:20:34] Task: reg\n",
      "\n",
      "[18:20:34] Start automl preset with listed constraints:\n",
      "[18:20:34] - time: 2166.54 seconds\n",
      "[18:20:34] - CPU: 16 cores\n",
      "[18:20:34] - memory: 16 GB\n",
      "\n",
      "[18:20:34] \u001b[1mTrain data shape: (150826, 42)\u001b[0m\n",
      "\n",
      "[18:20:39] Layer \u001b[1m1\u001b[0m train process start. Time left 2162.17 secs\n",
      "[18:20:45] Start fitting \u001b[1mLvl_0_Pipe_0_Mod_0_LinearL2\u001b[0m ...\n",
      "[18:20:56] Fitting \u001b[1mLvl_0_Pipe_0_Mod_0_LinearL2\u001b[0m finished. score = \u001b[1m-5391739392.0\u001b[0m\n",
      "[18:20:56] \u001b[1mLvl_0_Pipe_0_Mod_0_LinearL2\u001b[0m fitting and predicting completed\n",
      "[18:20:56] Time left 2145.20 secs\n",
      "\n",
      "[18:20:57] \u001b[1mSelector_LightGBM\u001b[0m fitting and predicting completed\n",
      "[18:20:57] Start fitting \u001b[1mLvl_0_Pipe_1_Mod_0_LightGBM\u001b[0m ...\n",
      "[18:21:07] Fitting \u001b[1mLvl_0_Pipe_1_Mod_0_LightGBM\u001b[0m finished. score = \u001b[1m-5291274240.0\u001b[0m\n",
      "[18:21:07] \u001b[1mLvl_0_Pipe_1_Mod_0_LightGBM\u001b[0m fitting and predicting completed\n",
      "[18:21:07] Start hyperparameters optimization for \u001b[1mLvl_0_Pipe_1_Mod_1_Tuned_LightGBM\u001b[0m ... Time budget is 300.00 secs\n"
     ]
    },
    {
     "name": "stderr",
     "output_type": "stream",
     "text": [
      "Optimization Progress: 100%|██████████| 101/101 [01:49<00:00,  1.08s/it, best_trial=70, best_value=-6.24e+9]"
     ]
    },
    {
     "name": "stdout",
     "output_type": "stream",
     "text": [
      "[18:22:56] Hyperparameters optimization for \u001b[1mLvl_0_Pipe_1_Mod_1_Tuned_LightGBM\u001b[0m completed\n",
      "[18:22:56] Start fitting \u001b[1mLvl_0_Pipe_1_Mod_1_Tuned_LightGBM\u001b[0m ...\n"
     ]
    },
    {
     "name": "stderr",
     "output_type": "stream",
     "text": [
      "\n"
     ]
    },
    {
     "name": "stdout",
     "output_type": "stream",
     "text": [
      "[18:23:05] Fitting \u001b[1mLvl_0_Pipe_1_Mod_1_Tuned_LightGBM\u001b[0m finished. score = \u001b[1m-5297672192.0\u001b[0m\n",
      "[18:23:05] \u001b[1mLvl_0_Pipe_1_Mod_1_Tuned_LightGBM\u001b[0m fitting and predicting completed\n",
      "[18:23:05] Start fitting \u001b[1mLvl_0_Pipe_1_Mod_2_CatBoost\u001b[0m ...\n",
      "[18:23:22] Fitting \u001b[1mLvl_0_Pipe_1_Mod_2_CatBoost\u001b[0m finished. score = \u001b[1m-5311896064.0\u001b[0m\n",
      "[18:23:22] \u001b[1mLvl_0_Pipe_1_Mod_2_CatBoost\u001b[0m fitting and predicting completed\n",
      "[18:23:22] Start hyperparameters optimization for \u001b[1mLvl_0_Pipe_1_Mod_3_Tuned_CatBoost\u001b[0m ... Time budget is 300.00 secs\n"
     ]
    },
    {
     "name": "stderr",
     "output_type": "stream",
     "text": [
      "Optimization Progress: 100%|██████████| 101/101 [04:34<00:00,  2.72s/it, best_trial=75, best_value=-6.24e+9]"
     ]
    },
    {
     "name": "stdout",
     "output_type": "stream",
     "text": [
      "[18:27:57] Hyperparameters optimization for \u001b[1mLvl_0_Pipe_1_Mod_3_Tuned_CatBoost\u001b[0m completed\n",
      "[18:27:57] Start fitting \u001b[1mLvl_0_Pipe_1_Mod_3_Tuned_CatBoost\u001b[0m ...\n"
     ]
    },
    {
     "name": "stderr",
     "output_type": "stream",
     "text": [
      "\n"
     ]
    },
    {
     "name": "stdout",
     "output_type": "stream",
     "text": [
      "[18:28:12] Fitting \u001b[1mLvl_0_Pipe_1_Mod_3_Tuned_CatBoost\u001b[0m finished. score = \u001b[1m-5311980032.0\u001b[0m\n",
      "[18:28:12] \u001b[1mLvl_0_Pipe_1_Mod_3_Tuned_CatBoost\u001b[0m fitting and predicting completed\n",
      "[18:28:12] Time left 1709.47 secs\n",
      "\n",
      "[18:28:12] \u001b[1mLayer 1 training completed.\u001b[0m\n",
      "\n",
      "[18:28:12] Blending: optimization starts with equal weights. Score = \u001b[1m-5283870720.0000000\u001b[0m\n",
      "[18:28:12] Blending: iteration \u001b[1m0\u001b[0m: score = \u001b[1m-5278368256.0000000\u001b[0m, weights = \u001b[1m[0.         0.41141537 0.298261   0.19002168 0.10030197]\u001b[0m\n",
      "[18:28:12] Blending: iteration \u001b[1m1\u001b[0m: score = \u001b[1m-5277543424.0000000\u001b[0m, weights = \u001b[1m[0.07292402 0.41833484 0.28423706 0.17350447 0.05099958]\u001b[0m\n",
      "[18:28:12] Blending: iteration \u001b[1m2\u001b[0m: score = \u001b[1m-5277471232.0000000\u001b[0m, weights = \u001b[1m[0.09004923 0.41796136 0.27025354 0.22173584 0.        ]\u001b[0m\n",
      "[18:28:12] Blending: iteration \u001b[1m3\u001b[0m: score = \u001b[1m-5277467648.0000000\u001b[0m, weights = \u001b[1m[0.08578084 0.415284   0.2729594  0.22597583 0.        ]\u001b[0m\n",
      "[18:28:12] Blending: iteration \u001b[1m4\u001b[0m: score = \u001b[1m-5277466624.0000000\u001b[0m, weights = \u001b[1m[0.08432342 0.41601753 0.27352038 0.22613871 0.        ]\u001b[0m\n",
      "[18:28:12] Blending: best score = \u001b[1m-5277466624.0000000\u001b[0m, best weights = \u001b[1m[0.08432342 0.41601753 0.27352038 0.22613871 0.        ]\u001b[0m\n",
      "[18:28:12] \u001b[1mAutoml preset training completed in 457.66 seconds\u001b[0m\n",
      "\n",
      "[18:28:12] Model description:\n",
      "Final prediction for new objects (level 0) = \n",
      "\t 0.08432 * (10 averaged models Lvl_0_Pipe_0_Mod_0_LinearL2) +\n",
      "\t 0.41602 * (10 averaged models Lvl_0_Pipe_1_Mod_0_LightGBM) +\n",
      "\t 0.27352 * (10 averaged models Lvl_0_Pipe_1_Mod_1_Tuned_LightGBM) +\n",
      "\t 0.22614 * (10 averaged models Lvl_0_Pipe_1_Mod_2_CatBoost) \n",
      "\n",
      "[18:28:12] ==================================================\n",
      "[18:28:12] Start 4 automl preset configuration:\n",
      "[18:28:12] \u001b[1mconf_4_sel_type_0_no_int.yml\u001b[0m, random state: {'reader_params': {'random_state': 46}, 'nn_params': {'random_state': 46}, 'general_params': {'return_all_predictions': False}}\n",
      "[18:28:12] Stdout logging level is INFO.\n",
      "[18:28:12] Task: reg\n",
      "\n",
      "[18:28:12] Start automl preset with listed constraints:\n",
      "[18:28:12] - time: 1708.86 seconds\n",
      "[18:28:12] - CPU: 16 cores\n",
      "[18:28:12] - memory: 16 GB\n",
      "\n",
      "[18:28:12] \u001b[1mTrain data shape: (150826, 42)\u001b[0m\n",
      "\n",
      "[18:28:16] Layer \u001b[1m1\u001b[0m train process start. Time left 1704.53 secs\n",
      "[18:28:17] Start fitting \u001b[1mLvl_0_Pipe_0_Mod_0_LinearL2\u001b[0m ...\n",
      "[18:28:27] Fitting \u001b[1mLvl_0_Pipe_0_Mod_0_LinearL2\u001b[0m finished. score = \u001b[1m-5423014912.0\u001b[0m\n",
      "[18:28:27] \u001b[1mLvl_0_Pipe_0_Mod_0_LinearL2\u001b[0m fitting and predicting completed\n",
      "[18:28:27] Time left 1693.97 secs\n",
      "\n",
      "[18:28:27] Start fitting \u001b[1mLvl_0_Pipe_1_Mod_0_LightGBM\u001b[0m ...\n",
      "[18:28:37] Fitting \u001b[1mLvl_0_Pipe_1_Mod_0_LightGBM\u001b[0m finished. score = \u001b[1m-5306446336.0\u001b[0m\n",
      "[18:28:37] \u001b[1mLvl_0_Pipe_1_Mod_0_LightGBM\u001b[0m fitting and predicting completed\n",
      "[18:28:37] Start hyperparameters optimization for \u001b[1mLvl_0_Pipe_1_Mod_1_Tuned_LightGBM\u001b[0m ... Time budget is 300.00 secs\n"
     ]
    },
    {
     "name": "stderr",
     "output_type": "stream",
     "text": [
      "Optimization Progress: 100%|██████████| 101/101 [01:48<00:00,  1.08s/it, best_trial=99, best_value=-5.85e+9]"
     ]
    },
    {
     "name": "stdout",
     "output_type": "stream",
     "text": [
      "[18:30:26] Hyperparameters optimization for \u001b[1mLvl_0_Pipe_1_Mod_1_Tuned_LightGBM\u001b[0m completed\n",
      "[18:30:26] Start fitting \u001b[1mLvl_0_Pipe_1_Mod_1_Tuned_LightGBM\u001b[0m ...\n"
     ]
    },
    {
     "name": "stderr",
     "output_type": "stream",
     "text": [
      "\n"
     ]
    },
    {
     "name": "stdout",
     "output_type": "stream",
     "text": [
      "[18:30:32] Fitting \u001b[1mLvl_0_Pipe_1_Mod_1_Tuned_LightGBM\u001b[0m finished. score = \u001b[1m-5292662784.0\u001b[0m\n",
      "[18:30:32] \u001b[1mLvl_0_Pipe_1_Mod_1_Tuned_LightGBM\u001b[0m fitting and predicting completed\n",
      "[18:30:32] Start fitting \u001b[1mLvl_0_Pipe_1_Mod_2_CatBoost\u001b[0m ...\n",
      "[18:30:49] Fitting \u001b[1mLvl_0_Pipe_1_Mod_2_CatBoost\u001b[0m finished. score = \u001b[1m-5330019328.0\u001b[0m\n",
      "[18:30:49] \u001b[1mLvl_0_Pipe_1_Mod_2_CatBoost\u001b[0m fitting and predicting completed\n",
      "[18:30:49] Start hyperparameters optimization for \u001b[1mLvl_0_Pipe_1_Mod_3_Tuned_CatBoost\u001b[0m ... Time budget is 300.00 secs\n"
     ]
    },
    {
     "name": "stderr",
     "output_type": "stream",
     "text": [
      "Optimization Progress: 100%|██████████| 101/101 [03:34<00:00,  2.12s/it, best_trial=44, best_value=-5.84e+9]"
     ]
    },
    {
     "name": "stdout",
     "output_type": "stream",
     "text": [
      "[18:34:23] Hyperparameters optimization for \u001b[1mLvl_0_Pipe_1_Mod_3_Tuned_CatBoost\u001b[0m completed\n",
      "[18:34:23] Start fitting \u001b[1mLvl_0_Pipe_1_Mod_3_Tuned_CatBoost\u001b[0m ...\n"
     ]
    },
    {
     "name": "stderr",
     "output_type": "stream",
     "text": [
      "\n"
     ]
    },
    {
     "name": "stdout",
     "output_type": "stream",
     "text": [
      "[18:34:38] Fitting \u001b[1mLvl_0_Pipe_1_Mod_3_Tuned_CatBoost\u001b[0m finished. score = \u001b[1m-5316682240.0\u001b[0m\n",
      "[18:34:38] \u001b[1mLvl_0_Pipe_1_Mod_3_Tuned_CatBoost\u001b[0m fitting and predicting completed\n",
      "[18:34:38] Time left 1322.98 secs\n",
      "\n",
      "[18:34:38] \u001b[1mLayer 1 training completed.\u001b[0m\n",
      "\n",
      "[18:34:38] Blending: optimization starts with equal weights. Score = \u001b[1m-5298259456.0000000\u001b[0m\n",
      "[18:34:38] Blending: iteration \u001b[1m0\u001b[0m: score = \u001b[1m-5287409152.0000000\u001b[0m, weights = \u001b[1m[0.         0.2981241  0.51882076 0.         0.18305519]\u001b[0m\n",
      "[18:34:38] Blending: iteration \u001b[1m1\u001b[0m: score = \u001b[1m-5287010304.0000000\u001b[0m, weights = \u001b[1m[0.05585596 0.32817027 0.48331785 0.         0.13265589]\u001b[0m\n",
      "[18:34:38] Blending: iteration \u001b[1m2\u001b[0m: score = \u001b[1m-5287007744.0000000\u001b[0m, weights = \u001b[1m[0.05597124 0.33392134 0.4787149  0.         0.13139252]\u001b[0m\n",
      "[18:34:39] Blending: iteration \u001b[1m3\u001b[0m: score = \u001b[1m-5287007232.0000000\u001b[0m, weights = \u001b[1m[0.05664023 0.33654788 0.47081268 0.         0.13599919]\u001b[0m\n",
      "[18:34:39] Blending: no improvements for score. Terminated.\n",
      "\n",
      "[18:34:39] Blending: best score = \u001b[1m-5287007232.0000000\u001b[0m, best weights = \u001b[1m[0.05664023 0.33654788 0.47081268 0.         0.13599919]\u001b[0m\n",
      "[18:34:39] \u001b[1mAutoml preset training completed in 386.46 seconds\u001b[0m\n",
      "\n",
      "[18:34:39] Model description:\n",
      "Final prediction for new objects (level 0) = \n",
      "\t 0.05664 * (10 averaged models Lvl_0_Pipe_0_Mod_0_LinearL2) +\n",
      "\t 0.33655 * (10 averaged models Lvl_0_Pipe_1_Mod_0_LightGBM) +\n",
      "\t 0.47081 * (10 averaged models Lvl_0_Pipe_1_Mod_1_Tuned_LightGBM) +\n",
      "\t 0.13600 * (10 averaged models Lvl_0_Pipe_1_Mod_3_Tuned_CatBoost) \n",
      "\n",
      "[18:34:39] ==================================================\n",
      "[18:34:39] Start 5 automl preset configuration:\n",
      "[18:34:39] \u001b[1mconf_5_sel_type_1_tuning_full.yml\u001b[0m, random state: {'reader_params': {'random_state': 47}, 'nn_params': {'random_state': 47}, 'general_params': {'return_all_predictions': False}}\n",
      "[18:34:39] Stdout logging level is INFO.\n",
      "[18:34:39] Task: reg\n",
      "\n",
      "[18:34:39] Start automl preset with listed constraints:\n",
      "[18:34:39] - time: 1322.37 seconds\n",
      "[18:34:39] - CPU: 16 cores\n",
      "[18:34:39] - memory: 16 GB\n",
      "\n",
      "[18:34:39] \u001b[1mTrain data shape: (150826, 42)\u001b[0m\n",
      "\n",
      "[18:34:43] Layer \u001b[1m1\u001b[0m train process start. Time left 1318.09 secs\n",
      "[18:34:49] Start fitting \u001b[1mLvl_0_Pipe_0_Mod_0_LinearL2\u001b[0m ...\n",
      "[18:35:02] Fitting \u001b[1mLvl_0_Pipe_0_Mod_0_LinearL2\u001b[0m finished. score = \u001b[1m-5391662592.0\u001b[0m\n",
      "[18:35:02] \u001b[1mLvl_0_Pipe_0_Mod_0_LinearL2\u001b[0m fitting and predicting completed\n",
      "[18:35:02] Time left 1299.32 secs\n",
      "\n",
      "[18:35:03] \u001b[1mSelector_LightGBM\u001b[0m fitting and predicting completed\n",
      "[18:35:09] Start fitting \u001b[1mLvl_0_Pipe_1_Mod_0_LightGBM\u001b[0m ...\n",
      "[18:35:20] Fitting \u001b[1mLvl_0_Pipe_1_Mod_0_LightGBM\u001b[0m finished. score = \u001b[1m-5282421248.0\u001b[0m\n",
      "[18:35:20] \u001b[1mLvl_0_Pipe_1_Mod_0_LightGBM\u001b[0m fitting and predicting completed\n",
      "[18:35:20] Start hyperparameters optimization for \u001b[1mLvl_0_Pipe_1_Mod_1_Tuned_LightGBM\u001b[0m ... Time budget is 236.82 secs\n"
     ]
    },
    {
     "name": "stderr",
     "output_type": "stream",
     "text": [
      "Optimization Progress:   0%|          | 0/101 [00:00<?, ?it/s]"
     ]
    },
    {
     "name": "stdout",
     "output_type": "stream",
     "text": [
      "[18:35:20] Start fitting \u001b[1mLvl_0_Pipe_1_Mod_1_Tuned_LightGBM\u001b[0m ...\n",
      "[18:35:46] Fitting \u001b[1mLvl_0_Pipe_1_Mod_1_Tuned_LightGBM\u001b[0m finished. score = \u001b[1m-5294636032.0\u001b[0m\n",
      "[18:35:46] \u001b[1mLvl_0_Pipe_1_Mod_1_Tuned_LightGBM\u001b[0m fitting and predicting completed\n"
     ]
    },
    {
     "name": "stderr",
     "output_type": "stream",
     "text": [
      "Optimization Progress:   1%|          | 1/101 [00:25<42:28, 25.49s/it, best_trial=0, best_value=-5.29e+9]"
     ]
    },
    {
     "name": "stdout",
     "output_type": "stream",
     "text": [
      "[18:35:46] Start fitting \u001b[1mLvl_0_Pipe_1_Mod_1_Tuned_LightGBM\u001b[0m ...\n",
      "[18:36:13] Fitting \u001b[1mLvl_0_Pipe_1_Mod_1_Tuned_LightGBM\u001b[0m finished. score = \u001b[1m-5279030784.0\u001b[0m\n",
      "[18:36:13] \u001b[1mLvl_0_Pipe_1_Mod_1_Tuned_LightGBM\u001b[0m fitting and predicting completed\n"
     ]
    },
    {
     "name": "stderr",
     "output_type": "stream",
     "text": [
      "Optimization Progress:   2%|▏         | 2/101 [00:53<44:05, 26.72s/it, best_trial=1, best_value=-5.28e+9]"
     ]
    },
    {
     "name": "stdout",
     "output_type": "stream",
     "text": [
      "[18:36:13] Start fitting \u001b[1mLvl_0_Pipe_1_Mod_1_Tuned_LightGBM\u001b[0m ...\n",
      "[18:36:26] Fitting \u001b[1mLvl_0_Pipe_1_Mod_1_Tuned_LightGBM\u001b[0m finished. score = \u001b[1m-5303459840.0\u001b[0m\n",
      "[18:36:26] \u001b[1mLvl_0_Pipe_1_Mod_1_Tuned_LightGBM\u001b[0m fitting and predicting completed\n"
     ]
    },
    {
     "name": "stderr",
     "output_type": "stream",
     "text": [
      "Optimization Progress:   3%|▎         | 3/101 [01:05<33:01, 20.22s/it, best_trial=1, best_value=-5.28e+9]"
     ]
    },
    {
     "name": "stdout",
     "output_type": "stream",
     "text": [
      "[18:36:26] Start fitting \u001b[1mLvl_0_Pipe_1_Mod_1_Tuned_LightGBM\u001b[0m ...\n",
      "[18:36:39] Fitting \u001b[1mLvl_0_Pipe_1_Mod_1_Tuned_LightGBM\u001b[0m finished. score = \u001b[1m-5282623488.0\u001b[0m\n",
      "[18:36:39] \u001b[1mLvl_0_Pipe_1_Mod_1_Tuned_LightGBM\u001b[0m fitting and predicting completed\n"
     ]
    },
    {
     "name": "stderr",
     "output_type": "stream",
     "text": [
      "Optimization Progress:   4%|▍         | 4/101 [01:18<28:01, 17.34s/it, best_trial=1, best_value=-5.28e+9]"
     ]
    },
    {
     "name": "stdout",
     "output_type": "stream",
     "text": [
      "[18:36:39] Start fitting \u001b[1mLvl_0_Pipe_1_Mod_1_Tuned_LightGBM\u001b[0m ...\n",
      "[18:36:59] Fitting \u001b[1mLvl_0_Pipe_1_Mod_1_Tuned_LightGBM\u001b[0m finished. score = \u001b[1m-5293836288.0\u001b[0m\n",
      "[18:36:59] \u001b[1mLvl_0_Pipe_1_Mod_1_Tuned_LightGBM\u001b[0m fitting and predicting completed\n"
     ]
    },
    {
     "name": "stderr",
     "output_type": "stream",
     "text": [
      "Optimization Progress:   5%|▍         | 5/101 [01:38<29:16, 18.29s/it, best_trial=1, best_value=-5.28e+9]"
     ]
    },
    {
     "name": "stdout",
     "output_type": "stream",
     "text": [
      "[18:36:59] Start fitting \u001b[1mLvl_0_Pipe_1_Mod_1_Tuned_LightGBM\u001b[0m ...\n",
      "[18:37:10] Fitting \u001b[1mLvl_0_Pipe_1_Mod_1_Tuned_LightGBM\u001b[0m finished. score = \u001b[1m-5295472640.0\u001b[0m\n",
      "[18:37:10] \u001b[1mLvl_0_Pipe_1_Mod_1_Tuned_LightGBM\u001b[0m fitting and predicting completed\n"
     ]
    },
    {
     "name": "stderr",
     "output_type": "stream",
     "text": [
      "Optimization Progress:   6%|▌         | 6/101 [01:49<25:14, 15.94s/it, best_trial=1, best_value=-5.28e+9]"
     ]
    },
    {
     "name": "stdout",
     "output_type": "stream",
     "text": [
      "[18:37:10] Start fitting \u001b[1mLvl_0_Pipe_1_Mod_1_Tuned_LightGBM\u001b[0m ...\n",
      "[18:37:21] Fitting \u001b[1mLvl_0_Pipe_1_Mod_1_Tuned_LightGBM\u001b[0m finished. score = \u001b[1m-5273051648.0\u001b[0m\n",
      "[18:37:21] \u001b[1mLvl_0_Pipe_1_Mod_1_Tuned_LightGBM\u001b[0m fitting and predicting completed\n"
     ]
    },
    {
     "name": "stderr",
     "output_type": "stream",
     "text": [
      "Optimization Progress:   7%|▋         | 7/101 [02:01<22:31, 14.38s/it, best_trial=6, best_value=-5.27e+9]"
     ]
    },
    {
     "name": "stdout",
     "output_type": "stream",
     "text": [
      "[18:37:21] Start fitting \u001b[1mLvl_0_Pipe_1_Mod_1_Tuned_LightGBM\u001b[0m ...\n",
      "[18:37:49] Fitting \u001b[1mLvl_0_Pipe_1_Mod_1_Tuned_LightGBM\u001b[0m finished. score = \u001b[1m-5275735552.0\u001b[0m\n",
      "[18:37:49] \u001b[1mLvl_0_Pipe_1_Mod_1_Tuned_LightGBM\u001b[0m fitting and predicting completed\n"
     ]
    },
    {
     "name": "stderr",
     "output_type": "stream",
     "text": [
      "Optimization Progress:   8%|▊         | 8/101 [02:28<28:50, 18.61s/it, best_trial=6, best_value=-5.27e+9]"
     ]
    },
    {
     "name": "stdout",
     "output_type": "stream",
     "text": [
      "[18:37:49] Start fitting \u001b[1mLvl_0_Pipe_1_Mod_1_Tuned_LightGBM\u001b[0m ...\n",
      "[18:38:02] Fitting \u001b[1mLvl_0_Pipe_1_Mod_1_Tuned_LightGBM\u001b[0m finished. score = \u001b[1m-5285056512.0\u001b[0m\n",
      "[18:38:02] \u001b[1mLvl_0_Pipe_1_Mod_1_Tuned_LightGBM\u001b[0m fitting and predicting completed\n"
     ]
    },
    {
     "name": "stderr",
     "output_type": "stream",
     "text": [
      "Optimization Progress:   9%|▉         | 9/101 [02:42<26:03, 17.00s/it, best_trial=6, best_value=-5.27e+9]"
     ]
    },
    {
     "name": "stdout",
     "output_type": "stream",
     "text": [
      "[18:38:02] Start fitting \u001b[1mLvl_0_Pipe_1_Mod_1_Tuned_LightGBM\u001b[0m ...\n",
      "[18:38:27] Fitting \u001b[1mLvl_0_Pipe_1_Mod_1_Tuned_LightGBM\u001b[0m finished. score = \u001b[1m-5292169216.0\u001b[0m\n",
      "[18:38:27] \u001b[1mLvl_0_Pipe_1_Mod_1_Tuned_LightGBM\u001b[0m fitting and predicting completed\n"
     ]
    },
    {
     "name": "stderr",
     "output_type": "stream",
     "text": [
      "Optimization Progress:  10%|▉         | 10/101 [03:06<29:14, 19.28s/it, best_trial=6, best_value=-5.27e+9]"
     ]
    },
    {
     "name": "stdout",
     "output_type": "stream",
     "text": [
      "[18:38:27] Start fitting \u001b[1mLvl_0_Pipe_1_Mod_1_Tuned_LightGBM\u001b[0m ...\n",
      "[18:38:37] Fitting \u001b[1mLvl_0_Pipe_1_Mod_1_Tuned_LightGBM\u001b[0m finished. score = \u001b[1m-5274225152.0\u001b[0m\n",
      "[18:38:37] \u001b[1mLvl_0_Pipe_1_Mod_1_Tuned_LightGBM\u001b[0m fitting and predicting completed\n"
     ]
    },
    {
     "name": "stderr",
     "output_type": "stream",
     "text": [
      "Optimization Progress:  11%|█         | 11/101 [03:17<24:54, 16.61s/it, best_trial=6, best_value=-5.27e+9]"
     ]
    },
    {
     "name": "stdout",
     "output_type": "stream",
     "text": [
      "[18:38:37] Start fitting \u001b[1mLvl_0_Pipe_1_Mod_1_Tuned_LightGBM\u001b[0m ...\n",
      "[18:38:48] Fitting \u001b[1mLvl_0_Pipe_1_Mod_1_Tuned_LightGBM\u001b[0m finished. score = \u001b[1m-5274230784.0\u001b[0m\n",
      "[18:38:48] \u001b[1mLvl_0_Pipe_1_Mod_1_Tuned_LightGBM\u001b[0m fitting and predicting completed\n"
     ]
    },
    {
     "name": "stderr",
     "output_type": "stream",
     "text": [
      "Optimization Progress:  12%|█▏        | 12/101 [03:27<22:01, 14.85s/it, best_trial=6, best_value=-5.27e+9]"
     ]
    },
    {
     "name": "stdout",
     "output_type": "stream",
     "text": [
      "[18:38:48] Start fitting \u001b[1mLvl_0_Pipe_1_Mod_1_Tuned_LightGBM\u001b[0m ...\n",
      "[18:39:05] Fitting \u001b[1mLvl_0_Pipe_1_Mod_1_Tuned_LightGBM\u001b[0m finished. score = \u001b[1m-5289412096.0\u001b[0m\n",
      "[18:39:05] \u001b[1mLvl_0_Pipe_1_Mod_1_Tuned_LightGBM\u001b[0m fitting and predicting completed\n"
     ]
    },
    {
     "name": "stderr",
     "output_type": "stream",
     "text": [
      "Optimization Progress:  13%|█▎        | 13/101 [03:44<22:30, 15.34s/it, best_trial=6, best_value=-5.27e+9]"
     ]
    },
    {
     "name": "stdout",
     "output_type": "stream",
     "text": [
      "[18:39:05] Start fitting \u001b[1mLvl_0_Pipe_1_Mod_1_Tuned_LightGBM\u001b[0m ...\n",
      "[18:39:15] Fitting \u001b[1mLvl_0_Pipe_1_Mod_1_Tuned_LightGBM\u001b[0m finished. score = \u001b[1m-5281253888.0\u001b[0m\n",
      "[18:39:15] \u001b[1mLvl_0_Pipe_1_Mod_1_Tuned_LightGBM\u001b[0m fitting and predicting completed\n"
     ]
    },
    {
     "name": "stderr",
     "output_type": "stream",
     "text": [
      "Optimization Progress:  14%|█▍        | 14/101 [03:54<19:58, 13.77s/it, best_trial=6, best_value=-5.27e+9]"
     ]
    },
    {
     "name": "stdout",
     "output_type": "stream",
     "text": [
      "[18:39:15] Start fitting \u001b[1mLvl_0_Pipe_1_Mod_1_Tuned_LightGBM\u001b[0m ...\n",
      "[18:39:31] Fitting \u001b[1mLvl_0_Pipe_1_Mod_1_Tuned_LightGBM\u001b[0m finished. score = \u001b[1m-5295957504.0\u001b[0m\n",
      "[18:39:31] \u001b[1mLvl_0_Pipe_1_Mod_1_Tuned_LightGBM\u001b[0m fitting and predicting completed\n"
     ]
    },
    {
     "name": "stderr",
     "output_type": "stream",
     "text": [
      "Optimization Progress:  15%|█▍        | 15/101 [04:10<23:55, 16.69s/it, best_trial=6, best_value=-5.27e+9]"
     ]
    },
    {
     "name": "stdout",
     "output_type": "stream",
     "text": [
      "[18:39:31] Hyperparameters optimization for \u001b[1mLvl_0_Pipe_1_Mod_1_Tuned_LightGBM\u001b[0m completed\n",
      "[18:39:31] Start fitting \u001b[1mLvl_0_Pipe_1_Mod_1_Tuned_LightGBM\u001b[0m ...\n"
     ]
    },
    {
     "name": "stderr",
     "output_type": "stream",
     "text": [
      "\n"
     ]
    },
    {
     "name": "stdout",
     "output_type": "stream",
     "text": [
      "[18:39:40] Fitting \u001b[1mLvl_0_Pipe_1_Mod_1_Tuned_LightGBM\u001b[0m finished. score = \u001b[1m-5283047424.0\u001b[0m\n",
      "[18:39:40] \u001b[1mLvl_0_Pipe_1_Mod_1_Tuned_LightGBM\u001b[0m fitting and predicting completed\n",
      "[18:39:40] Start fitting \u001b[1mLvl_0_Pipe_1_Mod_2_CatBoost\u001b[0m ...\n",
      "[18:40:01] Fitting \u001b[1mLvl_0_Pipe_1_Mod_2_CatBoost\u001b[0m finished. score = \u001b[1m-5313942016.0\u001b[0m\n",
      "[18:40:01] \u001b[1mLvl_0_Pipe_1_Mod_2_CatBoost\u001b[0m fitting and predicting completed\n",
      "[18:40:01] Start hyperparameters optimization for \u001b[1mLvl_0_Pipe_1_Mod_3_Tuned_CatBoost\u001b[0m ... Time budget is 300.00 secs\n"
     ]
    },
    {
     "name": "stderr",
     "output_type": "stream",
     "text": [
      "Optimization Progress:   0%|          | 0/101 [00:00<?, ?it/s]"
     ]
    },
    {
     "name": "stdout",
     "output_type": "stream",
     "text": [
      "[18:40:01] Start fitting \u001b[1mLvl_0_Pipe_1_Mod_3_Tuned_CatBoost\u001b[0m ...\n",
      "[18:40:23] Fitting \u001b[1mLvl_0_Pipe_1_Mod_3_Tuned_CatBoost\u001b[0m finished. score = \u001b[1m-5300237824.0\u001b[0m\n",
      "[18:40:23] \u001b[1mLvl_0_Pipe_1_Mod_3_Tuned_CatBoost\u001b[0m fitting and predicting completed\n"
     ]
    },
    {
     "name": "stderr",
     "output_type": "stream",
     "text": [
      "Optimization Progress:   1%|          | 1/101 [00:21<36:07, 21.68s/it, best_trial=0, best_value=-5.3e+9]"
     ]
    },
    {
     "name": "stdout",
     "output_type": "stream",
     "text": [
      "[18:40:23] Start fitting \u001b[1mLvl_0_Pipe_1_Mod_3_Tuned_CatBoost\u001b[0m ...\n",
      "[18:40:43] Fitting \u001b[1mLvl_0_Pipe_1_Mod_3_Tuned_CatBoost\u001b[0m finished. score = \u001b[1m-5309147648.0\u001b[0m\n",
      "[18:40:43] \u001b[1mLvl_0_Pipe_1_Mod_3_Tuned_CatBoost\u001b[0m fitting and predicting completed\n"
     ]
    },
    {
     "name": "stderr",
     "output_type": "stream",
     "text": [
      "Optimization Progress:   2%|▏         | 2/101 [00:42<34:32, 20.93s/it, best_trial=0, best_value=-5.3e+9]"
     ]
    },
    {
     "name": "stdout",
     "output_type": "stream",
     "text": [
      "[18:40:43] Start fitting \u001b[1mLvl_0_Pipe_1_Mod_3_Tuned_CatBoost\u001b[0m ...\n",
      "[18:41:03] Fitting \u001b[1mLvl_0_Pipe_1_Mod_3_Tuned_CatBoost\u001b[0m finished. score = \u001b[1m-5311321600.0\u001b[0m\n",
      "[18:41:03] \u001b[1mLvl_0_Pipe_1_Mod_3_Tuned_CatBoost\u001b[0m fitting and predicting completed\n"
     ]
    },
    {
     "name": "stderr",
     "output_type": "stream",
     "text": [
      "Optimization Progress:   3%|▎         | 3/101 [01:02<33:26, 20.47s/it, best_trial=0, best_value=-5.3e+9]"
     ]
    },
    {
     "name": "stdout",
     "output_type": "stream",
     "text": [
      "[18:41:03] Start fitting \u001b[1mLvl_0_Pipe_1_Mod_3_Tuned_CatBoost\u001b[0m ...\n",
      "[18:41:23] Fitting \u001b[1mLvl_0_Pipe_1_Mod_3_Tuned_CatBoost\u001b[0m finished. score = \u001b[1m-5319916544.0\u001b[0m\n",
      "[18:41:23] \u001b[1mLvl_0_Pipe_1_Mod_3_Tuned_CatBoost\u001b[0m fitting and predicting completed\n"
     ]
    },
    {
     "name": "stderr",
     "output_type": "stream",
     "text": [
      "Optimization Progress:   4%|▍         | 4/101 [01:22<33:04, 20.46s/it, best_trial=0, best_value=-5.3e+9]"
     ]
    },
    {
     "name": "stdout",
     "output_type": "stream",
     "text": [
      "[18:41:24] Start fitting \u001b[1mLvl_0_Pipe_1_Mod_3_Tuned_CatBoost\u001b[0m ...\n",
      "[18:41:51] Fitting \u001b[1mLvl_0_Pipe_1_Mod_3_Tuned_CatBoost\u001b[0m finished. score = \u001b[1m-5292106240.0\u001b[0m\n",
      "[18:41:51] \u001b[1mLvl_0_Pipe_1_Mod_3_Tuned_CatBoost\u001b[0m fitting and predicting completed\n"
     ]
    },
    {
     "name": "stderr",
     "output_type": "stream",
     "text": [
      "Optimization Progress:   5%|▍         | 5/101 [01:49<36:38, 22.90s/it, best_trial=4, best_value=-5.29e+9]"
     ]
    },
    {
     "name": "stdout",
     "output_type": "stream",
     "text": [
      "[18:41:51] Start fitting \u001b[1mLvl_0_Pipe_1_Mod_3_Tuned_CatBoost\u001b[0m ...\n",
      "[18:42:11] Fitting \u001b[1mLvl_0_Pipe_1_Mod_3_Tuned_CatBoost\u001b[0m finished. score = \u001b[1m-5311508992.0\u001b[0m\n",
      "[18:42:11] \u001b[1mLvl_0_Pipe_1_Mod_3_Tuned_CatBoost\u001b[0m fitting and predicting completed\n"
     ]
    },
    {
     "name": "stderr",
     "output_type": "stream",
     "text": [
      "Optimization Progress:   6%|▌         | 6/101 [02:09<34:46, 21.97s/it, best_trial=4, best_value=-5.29e+9]"
     ]
    },
    {
     "name": "stdout",
     "output_type": "stream",
     "text": [
      "[18:42:11] Start fitting \u001b[1mLvl_0_Pipe_1_Mod_3_Tuned_CatBoost\u001b[0m ...\n",
      "[18:42:31] Fitting \u001b[1mLvl_0_Pipe_1_Mod_3_Tuned_CatBoost\u001b[0m finished. score = \u001b[1m-5309147648.0\u001b[0m\n",
      "[18:42:31] \u001b[1mLvl_0_Pipe_1_Mod_3_Tuned_CatBoost\u001b[0m fitting and predicting completed\n"
     ]
    },
    {
     "name": "stderr",
     "output_type": "stream",
     "text": [
      "Optimization Progress:   7%|▋         | 7/101 [02:30<33:35, 21.44s/it, best_trial=4, best_value=-5.29e+9]"
     ]
    },
    {
     "name": "stdout",
     "output_type": "stream",
     "text": [
      "[18:42:31] Start fitting \u001b[1mLvl_0_Pipe_1_Mod_3_Tuned_CatBoost\u001b[0m ...\n",
      "[18:42:52] Fitting \u001b[1mLvl_0_Pipe_1_Mod_3_Tuned_CatBoost\u001b[0m finished. score = \u001b[1m-5311508992.0\u001b[0m\n",
      "[18:42:52] \u001b[1mLvl_0_Pipe_1_Mod_3_Tuned_CatBoost\u001b[0m fitting and predicting completed\n"
     ]
    },
    {
     "name": "stderr",
     "output_type": "stream",
     "text": [
      "Optimization Progress:   8%|▊         | 8/101 [02:50<32:42, 21.10s/it, best_trial=4, best_value=-5.29e+9]"
     ]
    },
    {
     "name": "stdout",
     "output_type": "stream",
     "text": [
      "[18:42:52] Start fitting \u001b[1mLvl_0_Pipe_1_Mod_3_Tuned_CatBoost\u001b[0m ...\n",
      "[18:43:13] Fitting \u001b[1mLvl_0_Pipe_1_Mod_3_Tuned_CatBoost\u001b[0m finished. score = \u001b[1m-5311111680.0\u001b[0m\n",
      "[18:43:13] \u001b[1mLvl_0_Pipe_1_Mod_3_Tuned_CatBoost\u001b[0m fitting and predicting completed\n"
     ]
    },
    {
     "name": "stderr",
     "output_type": "stream",
     "text": [
      "Optimization Progress:   9%|▉         | 9/101 [03:11<32:21, 21.11s/it, best_trial=4, best_value=-5.29e+9]"
     ]
    },
    {
     "name": "stdout",
     "output_type": "stream",
     "text": [
      "[18:43:13] Start fitting \u001b[1mLvl_0_Pipe_1_Mod_3_Tuned_CatBoost\u001b[0m ...\n",
      "[18:43:38] Fitting \u001b[1mLvl_0_Pipe_1_Mod_3_Tuned_CatBoost\u001b[0m finished. score = \u001b[1m-5298215936.0\u001b[0m\n",
      "[18:43:38] \u001b[1mLvl_0_Pipe_1_Mod_3_Tuned_CatBoost\u001b[0m fitting and predicting completed\n"
     ]
    },
    {
     "name": "stderr",
     "output_type": "stream",
     "text": [
      "Optimization Progress:  10%|▉         | 10/101 [03:36<33:57, 22.39s/it, best_trial=4, best_value=-5.29e+9]"
     ]
    },
    {
     "name": "stdout",
     "output_type": "stream",
     "text": [
      "[18:43:38] Start fitting \u001b[1mLvl_0_Pipe_1_Mod_3_Tuned_CatBoost\u001b[0m ...\n",
      "[18:44:07] Fitting \u001b[1mLvl_0_Pipe_1_Mod_3_Tuned_CatBoost\u001b[0m finished. score = \u001b[1m-5293896192.0\u001b[0m\n",
      "[18:44:07] \u001b[1mLvl_0_Pipe_1_Mod_3_Tuned_CatBoost\u001b[0m fitting and predicting completed\n"
     ]
    },
    {
     "name": "stderr",
     "output_type": "stream",
     "text": [
      "Optimization Progress:  11%|█         | 11/101 [04:05<36:26, 24.29s/it, best_trial=4, best_value=-5.29e+9]"
     ]
    },
    {
     "name": "stdout",
     "output_type": "stream",
     "text": [
      "[18:44:07] Start fitting \u001b[1mLvl_0_Pipe_1_Mod_3_Tuned_CatBoost\u001b[0m ...\n",
      "[18:44:35] Fitting \u001b[1mLvl_0_Pipe_1_Mod_3_Tuned_CatBoost\u001b[0m finished. score = \u001b[1m-5293532672.0\u001b[0m\n",
      "[18:44:35] \u001b[1mLvl_0_Pipe_1_Mod_3_Tuned_CatBoost\u001b[0m fitting and predicting completed\n"
     ]
    },
    {
     "name": "stderr",
     "output_type": "stream",
     "text": [
      "Optimization Progress:  12%|█▏        | 12/101 [04:34<37:57, 25.59s/it, best_trial=4, best_value=-5.29e+9]"
     ]
    },
    {
     "name": "stdout",
     "output_type": "stream",
     "text": [
      "[18:44:35] Start fitting \u001b[1mLvl_0_Pipe_1_Mod_3_Tuned_CatBoost\u001b[0m ...\n",
      "[18:45:03] Fitting \u001b[1mLvl_0_Pipe_1_Mod_3_Tuned_CatBoost\u001b[0m finished. score = \u001b[1m-5292102144.0\u001b[0m\n",
      "[18:45:03] \u001b[1mLvl_0_Pipe_1_Mod_3_Tuned_CatBoost\u001b[0m fitting and predicting completed\n"
     ]
    },
    {
     "name": "stderr",
     "output_type": "stream",
     "text": [
      "Optimization Progress:  13%|█▎        | 13/101 [05:01<34:01, 23.20s/it, best_trial=12, best_value=-5.29e+9]"
     ]
    },
    {
     "name": "stdout",
     "output_type": "stream",
     "text": [
      "[18:45:03] Hyperparameters optimization for \u001b[1mLvl_0_Pipe_1_Mod_3_Tuned_CatBoost\u001b[0m completed\n",
      "[18:45:03] Start fitting \u001b[1mLvl_0_Pipe_1_Mod_3_Tuned_CatBoost\u001b[0m ...\n"
     ]
    },
    {
     "name": "stderr",
     "output_type": "stream",
     "text": [
      "\n"
     ]
    },
    {
     "name": "stdout",
     "output_type": "stream",
     "text": [
      "[18:45:20] Fitting \u001b[1mLvl_0_Pipe_1_Mod_3_Tuned_CatBoost\u001b[0m finished. score = \u001b[1m-5313926656.0\u001b[0m\n",
      "[18:45:20] \u001b[1mLvl_0_Pipe_1_Mod_3_Tuned_CatBoost\u001b[0m fitting and predicting completed\n",
      "[18:45:20] Time left 680.86 secs\n",
      "\n",
      "[18:45:20] \u001b[1mLayer 1 training completed.\u001b[0m\n",
      "\n",
      "[18:45:20] Blending: optimization starts with equal weights. Score = \u001b[1m-5278885888.0000000\u001b[0m\n",
      "[18:45:20] Blending: iteration \u001b[1m0\u001b[0m: score = \u001b[1m-5271890944.0000000\u001b[0m, weights = \u001b[1m[0.         0.4679002  0.26320142 0.1244538  0.14444453]\u001b[0m\n",
      "[18:45:20] Blending: iteration \u001b[1m1\u001b[0m: score = \u001b[1m-5271049216.0000000\u001b[0m, weights = \u001b[1m[0.06654153 0.48023883 0.2364314  0.08239327 0.134395  ]\u001b[0m\n",
      "[18:45:20] Blending: iteration \u001b[1m2\u001b[0m: score = \u001b[1m-5271000064.0000000\u001b[0m, weights = \u001b[1m[0.0816907  0.4775493  0.23472545 0.06912251 0.13691205]\u001b[0m\n",
      "[18:45:21] Blending: iteration \u001b[1m3\u001b[0m: score = \u001b[1m-5270996480.0000000\u001b[0m, weights = \u001b[1m[0.08542327 0.47809443 0.23711422 0.06394099 0.13542713]\u001b[0m\n",
      "[18:45:21] Blending: iteration \u001b[1m4\u001b[0m: score = \u001b[1m-5270995968.0000000\u001b[0m, weights = \u001b[1m[0.0861645  0.47664604 0.2355536  0.06352016 0.13811573]\u001b[0m\n",
      "[18:45:21] Blending: best score = \u001b[1m-5270995968.0000000\u001b[0m, best weights = \u001b[1m[0.0861645  0.47664604 0.2355536  0.06352016 0.13811573]\u001b[0m\n",
      "[18:45:21] \u001b[1mAutoml preset training completed in 642.09 seconds\u001b[0m\n",
      "\n",
      "[18:45:21] Model description:\n",
      "Final prediction for new objects (level 0) = \n",
      "\t 0.08616 * (10 averaged models Lvl_0_Pipe_0_Mod_0_LinearL2) +\n",
      "\t 0.47665 * (10 averaged models Lvl_0_Pipe_1_Mod_0_LightGBM) +\n",
      "\t 0.23555 * (10 averaged models Lvl_0_Pipe_1_Mod_1_Tuned_LightGBM) +\n",
      "\t 0.06352 * (10 averaged models Lvl_0_Pipe_1_Mod_2_CatBoost) +\n",
      "\t 0.13812 * (10 averaged models Lvl_0_Pipe_1_Mod_3_Tuned_CatBoost) \n",
      "\n",
      "[18:45:21] ==================================================\n",
      "[18:45:21] Start 6 automl preset configuration:\n",
      "[18:45:21] \u001b[1mconf_6_sel_type_1_tuning_full_no_int_lgbm.yml\u001b[0m, random state: {'reader_params': {'random_state': 48}, 'nn_params': {'random_state': 48}, 'general_params': {'return_all_predictions': False}}\n",
      "[18:45:21] Stdout logging level is INFO.\n",
      "[18:45:21] Task: reg\n",
      "\n",
      "[18:45:21] Start automl preset with listed constraints:\n",
      "[18:45:21] - time: 680.27 seconds\n",
      "[18:45:21] - CPU: 16 cores\n",
      "[18:45:21] - memory: 16 GB\n",
      "\n",
      "[18:45:21] \u001b[1mTrain data shape: (150826, 42)\u001b[0m\n",
      "\n",
      "[18:45:25] Layer \u001b[1m1\u001b[0m train process start. Time left 675.99 secs\n",
      "[18:45:31] Start fitting \u001b[1mLvl_0_Pipe_0_Mod_0_LinearL2\u001b[0m ...\n",
      "[18:45:41] Fitting \u001b[1mLvl_0_Pipe_0_Mod_0_LinearL2\u001b[0m finished. score = \u001b[1m-5394705408.0\u001b[0m\n",
      "[18:45:41] \u001b[1mLvl_0_Pipe_0_Mod_0_LinearL2\u001b[0m fitting and predicting completed\n",
      "[18:45:41] Time left 660.22 secs\n",
      "\n",
      "[18:45:42] \u001b[1mSelector_LightGBM\u001b[0m fitting and predicting completed\n",
      "[18:45:42] Start fitting \u001b[1mLvl_0_Pipe_1_Mod_0_LightGBM\u001b[0m ...\n",
      "[18:45:51] Fitting \u001b[1mLvl_0_Pipe_1_Mod_0_LightGBM\u001b[0m finished. score = \u001b[1m-5307448832.0\u001b[0m\n",
      "[18:45:51] \u001b[1mLvl_0_Pipe_1_Mod_0_LightGBM\u001b[0m fitting and predicting completed\n",
      "[18:45:51] Start hyperparameters optimization for \u001b[1mLvl_0_Pipe_1_Mod_1_Tuned_LightGBM\u001b[0m ... Time budget is 108.83 secs\n"
     ]
    },
    {
     "name": "stderr",
     "output_type": "stream",
     "text": [
      "Optimization Progress:  91%|█████████ | 92/101 [01:49<00:10,  1.19s/it, best_trial=43, best_value=-5.86e+9]"
     ]
    },
    {
     "name": "stdout",
     "output_type": "stream",
     "text": [
      "[18:47:40] Hyperparameters optimization for \u001b[1mLvl_0_Pipe_1_Mod_1_Tuned_LightGBM\u001b[0m completed\n",
      "[18:47:40] Start fitting \u001b[1mLvl_0_Pipe_1_Mod_1_Tuned_LightGBM\u001b[0m ...\n"
     ]
    },
    {
     "name": "stderr",
     "output_type": "stream",
     "text": [
      "\n"
     ]
    },
    {
     "name": "stdout",
     "output_type": "stream",
     "text": [
      "[18:47:47] Fitting \u001b[1mLvl_0_Pipe_1_Mod_1_Tuned_LightGBM\u001b[0m finished. score = \u001b[1m-5289117184.0\u001b[0m\n",
      "[18:47:47] \u001b[1mLvl_0_Pipe_1_Mod_1_Tuned_LightGBM\u001b[0m fitting and predicting completed\n",
      "[18:47:47] Start fitting \u001b[1mLvl_0_Pipe_1_Mod_2_CatBoost\u001b[0m ...\n",
      "[18:48:04] Fitting \u001b[1mLvl_0_Pipe_1_Mod_2_CatBoost\u001b[0m finished. score = \u001b[1m-5324221440.0\u001b[0m\n",
      "[18:48:04] \u001b[1mLvl_0_Pipe_1_Mod_2_CatBoost\u001b[0m fitting and predicting completed\n",
      "[18:48:04] Start hyperparameters optimization for \u001b[1mLvl_0_Pipe_1_Mod_3_Tuned_CatBoost\u001b[0m ... Time budget is 300.00 secs\n"
     ]
    },
    {
     "name": "stderr",
     "output_type": "stream",
     "text": [
      "Optimization Progress: 100%|██████████| 101/101 [03:31<00:00,  2.10s/it, best_trial=93, best_value=-5.93e+9]"
     ]
    },
    {
     "name": "stdout",
     "output_type": "stream",
     "text": [
      "[18:51:36] Hyperparameters optimization for \u001b[1mLvl_0_Pipe_1_Mod_3_Tuned_CatBoost\u001b[0m completed\n",
      "[18:51:36] Start fitting \u001b[1mLvl_0_Pipe_1_Mod_3_Tuned_CatBoost\u001b[0m ...\n"
     ]
    },
    {
     "name": "stderr",
     "output_type": "stream",
     "text": [
      "\n"
     ]
    },
    {
     "name": "stdout",
     "output_type": "stream",
     "text": [
      "[18:52:00] Fitting \u001b[1mLvl_0_Pipe_1_Mod_3_Tuned_CatBoost\u001b[0m finished. score = \u001b[1m-5300742144.0\u001b[0m\n",
      "[18:52:00] \u001b[1mLvl_0_Pipe_1_Mod_3_Tuned_CatBoost\u001b[0m fitting and predicting completed\n",
      "[18:52:00] Time left 281.31 secs\n",
      "\n",
      "[18:52:00] \u001b[1mLayer 1 training completed.\u001b[0m\n",
      "\n",
      "[18:52:00] Blending: optimization starts with equal weights. Score = \u001b[1m-5290809344.0000000\u001b[0m\n",
      "[18:52:00] Blending: iteration \u001b[1m0\u001b[0m: score = \u001b[1m-5283600384.0000000\u001b[0m, weights = \u001b[1m[0.         0.14601643 0.527863   0.         0.32612056]\u001b[0m\n",
      "[18:52:00] Blending: iteration \u001b[1m1\u001b[0m: score = \u001b[1m-5283092992.0000000\u001b[0m, weights = \u001b[1m[0.05634524 0.1430704  0.52822375 0.         0.27236065]\u001b[0m\n",
      "[18:52:00] Blending: iteration \u001b[1m2\u001b[0m: score = \u001b[1m-5283077120.0000000\u001b[0m, weights = \u001b[1m[0.06633713 0.14543848 0.5211402  0.         0.26708415]\u001b[0m\n",
      "[18:52:00] Blending: no improvements for score. Terminated.\n",
      "\n",
      "[18:52:00] Blending: best score = \u001b[1m-5283077120.0000000\u001b[0m, best weights = \u001b[1m[0.06633713 0.14543848 0.5211402  0.         0.26708415]\u001b[0m\n",
      "[18:52:00] \u001b[1mAutoml preset training completed in 399.41 seconds\u001b[0m\n",
      "\n",
      "[18:52:00] Model description:\n",
      "Final prediction for new objects (level 0) = \n",
      "\t 0.06634 * (10 averaged models Lvl_0_Pipe_0_Mod_0_LinearL2) +\n",
      "\t 0.14544 * (10 averaged models Lvl_0_Pipe_1_Mod_0_LightGBM) +\n",
      "\t 0.52114 * (10 averaged models Lvl_0_Pipe_1_Mod_1_Tuned_LightGBM) +\n",
      "\t 0.26708 * (10 averaged models Lvl_0_Pipe_1_Mod_3_Tuned_CatBoost) \n",
      "\n",
      "[18:52:00] ==================================================\n",
      "[18:52:00] Blending: optimization starts with equal weights. Score = \u001b[1m-5252835840.0000000\u001b[0m\n",
      "[18:52:00] Blending: iteration \u001b[1m0\u001b[0m: score = \u001b[1m-5237227520.0000000\u001b[0m, weights = \u001b[1m[0.5548167  0.44518325 0.         0.         0.         0.\n",
      " 0.        ]\u001b[0m\n",
      "[18:52:01] Blending: iteration \u001b[1m1\u001b[0m: score = \u001b[1m-5237227008.0000000\u001b[0m, weights = \u001b[1m[0.55622876 0.4437712  0.         0.         0.         0.\n",
      " 0.        ]\u001b[0m\n",
      "[18:52:01] Blending: no improvements for score. Terminated.\n",
      "\n",
      "[18:52:01] Blending: best score = \u001b[1m-5237227008.0000000\u001b[0m, best weights = \u001b[1m[0.55622876 0.4437712  0.         0.         0.         0.\n",
      " 0.        ]\u001b[0m\n"
     ]
    },
    {
     "data": {
      "text/plain": [
       "['lightautoml_utilized.pkl.pkl']"
      ]
     },
     "execution_count": 32,
     "metadata": {},
     "output_type": "execute_result"
    }
   ],
   "source": [
    "automl = TabularUtilizedAutoML(task = task,\n",
    "                       timeout = TIMEOUT,\n",
    "                       cpu_limit = N_THREADS,\n",
    "                       reader_params = {'n_jobs': N_THREADS, 'cv': N_FOLDS, 'random_state': RANDOM_STATE},\n",
    ")\n",
    "out_of_fold_predictions = automl.fit_predict(train_df, roles = roles, verbose = 1)\n",
    "joblib.dump(automl, 'lightautoml_utilized.pkl.pkl')"
   ]
  },
  {
   "cell_type": "code",
   "execution_count": 34,
   "id": "c6b5775f",
   "metadata": {},
   "outputs": [
    {
     "name": "stdout",
     "output_type": "stream",
     "text": [
      "Prediction for val_data:\n",
      "array([[37993.39 ],\n",
      "       [52040.   ],\n",
      "       [69087.25 ],\n",
      "       ...,\n",
      "       [17470.297],\n",
      "       [72909.55 ],\n",
      "       [45945.508]], dtype=float32)\n",
      "Shape = (37707, 1)\n",
      "OOF RMSE: 72368.6875\n",
      "HOLDOUT RMSE: 72478.390625\n"
     ]
    }
   ],
   "source": [
    "val_preds = automl.predict(val_df)\n",
    "print(f'Prediction for val_data:\\n{val_preds}\\nShape = {val_preds.shape}')\n",
    "oof_rmse = rmse(train_df[TARGET_NAME].values, out_of_fold_predictions.data)\n",
    "holdout_rmse = rmse(val_df[TARGET_NAME].values, val_preds.data)\n",
    "\n",
    "print(f'OOF RMSE: {oof_rmse}')\n",
    "print(f'HOLDOUT RMSE: {holdout_rmse}')"
   ]
  },
  {
   "cell_type": "markdown",
   "id": "678b1d11",
   "metadata": {},
   "source": [
    "30 cv : OOF RMSE: 71784.9375\n",
    "HOLDOUT RMSE: 72496.875"
   ]
  },
  {
   "cell_type": "markdown",
   "id": "bdbff19a",
   "metadata": {},
   "source": [
    "50 cv : OOF RMSE: 71309.625\n",
    "HOLDOUT RMSE: 72547.3984375"
   ]
  },
  {
   "cell_type": "markdown",
   "id": "e252235c",
   "metadata": {},
   "source": [
    "OOF RMSE: 72449.984375\n",
    "HOLDOUT RMSE: 72464.5390625"
   ]
  },
  {
   "cell_type": "code",
   "execution_count": 35,
   "id": "aacf426b",
   "metadata": {},
   "outputs": [
    {
     "name": "stdout",
     "output_type": "stream",
     "text": [
      "array([[17545.82 ],\n",
      "       [78661.69 ],\n",
      "       [52319.98 ],\n",
      "       ...,\n",
      "       [22250.86 ],\n",
      "       [16866.059],\n",
      "       [36238.67 ]], dtype=float32)\n"
     ]
    }
   ],
   "source": [
    "test_preds = automl.predict(test)\n",
    "print(test_preds)\n",
    "sub['price'] = test_preds[0:].data\n",
    "sub.to_csv('automl_submision.csv', index=None)"
   ]
  },
  {
   "cell_type": "code",
   "execution_count": null,
   "id": "93a15723",
   "metadata": {},
   "outputs": [],
   "source": []
  }
 ],
 "metadata": {
  "kernelspec": {
   "display_name": "ensembling",
   "language": "python",
   "name": "python3"
  },
  "language_info": {
   "codemirror_mode": {
    "name": "ipython",
    "version": 3
   },
   "file_extension": ".py",
   "mimetype": "text/x-python",
   "name": "python",
   "nbconvert_exporter": "python",
   "pygments_lexer": "ipython3",
   "version": "3.10.12"
  }
 },
 "nbformat": 4,
 "nbformat_minor": 5
}
